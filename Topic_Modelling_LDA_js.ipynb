{
 "cells": [
  {
   "cell_type": "code",
   "execution_count": 139,
   "metadata": {},
   "outputs": [
    {
     "name": "stderr",
     "output_type": "stream",
     "text": [
      "[nltk_data] Downloading package stopwords to\n",
      "[nltk_data]     /Users/jongbusherpa/nltk_data...\n",
      "[nltk_data]   Package stopwords is already up-to-date!\n"
     ]
    }
   ],
   "source": [
    "import pandas as pd\n",
    "import datetime as dt\n",
    "import praw\n",
    "from collections import Counter\n",
    "\n",
    "import re\n",
    "\n",
    "import nltk\n",
    "nltk.download('stopwords')\n",
    "from nltk.corpus import stopwords\n",
    "\n",
    "from sklearn.decomposition import LatentDirichletAllocation as LDA\n",
    "from sklearn.feature_extraction.text import TfidfVectorizer\n",
    "\n",
    "from sklearn.utils.extmath import randomized_svd\n",
    "from sklearn.cluster import KMeans\n",
    "\n",
    "from sklearn.metrics import silhouette_score\n",
    "\n",
    "import matplotlib.pyplot as plt"
   ]
  },
  {
   "cell_type": "markdown",
   "metadata": {},
   "source": [
    "For the below, follow the directions here https://www.storybench.org/how-to-scrape-reddit-with-python/"
   ]
  },
  {
   "cell_type": "code",
   "execution_count": 141,
   "metadata": {},
   "outputs": [],
   "source": [
    "PERSONAL_USE_SCRIPT_14_CHARS = 'DlOSzt8yX1sHEA'\n",
    "SECRET_KEY_27_CHARS = 'akhRmZhbpUVRlPOc67CeJQSqIDY'\n",
    "YOUR_APP_NAME = 'NoSleepRecommender'\n",
    "YOUR_REDDIT_USER_NAME = 'josephs7'\n",
    "YOUR_REDDIT_LOGIN_PASSWORD = 'Computer1'"
   ]
  },
  {
   "cell_type": "code",
   "execution_count": 142,
   "metadata": {},
   "outputs": [],
   "source": [
    "reddit = praw.Reddit(client_id=PERSONAL_USE_SCRIPT_14_CHARS,\n",
    "                     client_secret=SECRET_KEY_27_CHARS,\n",
    "                     password=YOUR_REDDIT_LOGIN_PASSWORD,\n",
    "                     user_agent=YOUR_APP_NAME,\n",
    "                     username=YOUR_REDDIT_USER_NAME)"
   ]
  },
  {
   "cell_type": "code",
   "execution_count": 143,
   "metadata": {},
   "outputs": [
    {
     "name": "stdout",
     "output_type": "stream",
     "text": [
      "josephs7\n"
     ]
    }
   ],
   "source": [
    "print(reddit.user.me())"
   ]
  },
  {
   "cell_type": "code",
   "execution_count": 144,
   "metadata": {},
   "outputs": [],
   "source": [
    "subreddit = reddit.subreddit('nosleep')"
   ]
  },
  {
   "cell_type": "markdown",
   "metadata": {},
   "source": [
    "# Gettting Stories and Comments"
   ]
  },
  {
   "cell_type": "code",
   "execution_count": 145,
   "metadata": {},
   "outputs": [],
   "source": [
    "stories_dict = {\"story_id\": [],\n",
    "                \"title\": [],\n",
    "               \"author\": [],\n",
    "               \"body\": []}"
   ]
  },
  {
   "cell_type": "code",
   "execution_count": 146,
   "metadata": {},
   "outputs": [],
   "source": [
    "my_subreddit = subreddit.hot(limit=1000)\n",
    "for submission in my_subreddit:\n",
    "    stories_dict[\"title\"].append(submission.title)\n",
    "    stories_dict[\"body\"].append(submission.selftext)\n",
    "    stories_dict[\"author\"].append(submission.author)\n",
    "    stories_dict[\"story_id\"].append(submission.id)"
   ]
  },
  {
   "cell_type": "code",
   "execution_count": 147,
   "metadata": {},
   "outputs": [
    {
     "data": {
      "text/html": [
       "<div>\n",
       "<style scoped>\n",
       "    .dataframe tbody tr th:only-of-type {\n",
       "        vertical-align: middle;\n",
       "    }\n",
       "\n",
       "    .dataframe tbody tr th {\n",
       "        vertical-align: top;\n",
       "    }\n",
       "\n",
       "    .dataframe thead th {\n",
       "        text-align: right;\n",
       "    }\n",
       "</style>\n",
       "<table border=\"1\" class=\"dataframe\">\n",
       "  <thead>\n",
       "    <tr style=\"text-align: right;\">\n",
       "      <th></th>\n",
       "      <th>story_id</th>\n",
       "      <th>title</th>\n",
       "      <th>author</th>\n",
       "      <th>body</th>\n",
       "    </tr>\n",
       "  </thead>\n",
       "  <tbody>\n",
       "    <tr>\n",
       "      <td>0</td>\n",
       "      <td>fecu80</td>\n",
       "      <td>January 2020 Winners!</td>\n",
       "      <td>poppy_moonray</td>\n",
       "      <td></td>\n",
       "    </tr>\n",
       "    <tr>\n",
       "      <td>1</td>\n",
       "      <td>fmxcnp</td>\n",
       "      <td>February 2020 Voting Thread</td>\n",
       "      <td>TheCusterWolf</td>\n",
       "      <td></td>\n",
       "    </tr>\n",
       "    <tr>\n",
       "      <td>2</td>\n",
       "      <td>fmz97y</td>\n",
       "      <td>I’m a leaker, but the document I’m disclosing ...</td>\n",
       "      <td>TheVaticanArchivist</td>\n",
       "      <td>*The document that I’m about to leak contains ...</td>\n",
       "    </tr>\n",
       "    <tr>\n",
       "      <td>3</td>\n",
       "      <td>fmzcxo</td>\n",
       "      <td>JIM'S NOT HERE</td>\n",
       "      <td>Max-Voynich</td>\n",
       "      <td>I leave dinner to pick up the phone, cupping m...</td>\n",
       "    </tr>\n",
       "    <tr>\n",
       "      <td>4</td>\n",
       "      <td>fmtlbu</td>\n",
       "      <td>How to Survive Camping: the town should fear me</td>\n",
       "      <td>fainting--goat</td>\n",
       "      <td>I run a private campground.  Last time I told ...</td>\n",
       "    </tr>\n",
       "  </tbody>\n",
       "</table>\n",
       "</div>"
      ],
      "text/plain": [
       "  story_id                                              title  \\\n",
       "0   fecu80                              January 2020 Winners!   \n",
       "1   fmxcnp                        February 2020 Voting Thread   \n",
       "2   fmz97y  I’m a leaker, but the document I’m disclosing ...   \n",
       "3   fmzcxo                                     JIM'S NOT HERE   \n",
       "4   fmtlbu    How to Survive Camping: the town should fear me   \n",
       "\n",
       "                author                                               body  \n",
       "0        poppy_moonray                                                     \n",
       "1        TheCusterWolf                                                     \n",
       "2  TheVaticanArchivist  *The document that I’m about to leak contains ...  \n",
       "3          Max-Voynich  I leave dinner to pick up the phone, cupping m...  \n",
       "4       fainting--goat  I run a private campground.  Last time I told ...  "
      ]
     },
     "execution_count": 147,
     "metadata": {},
     "output_type": "execute_result"
    }
   ],
   "source": [
    "story_df = pd.DataFrame(stories_dict)\n",
    "story_df = story_df.head(500)\n",
    "story_df.head()"
   ]
  },
  {
   "cell_type": "code",
   "execution_count": 148,
   "metadata": {
    "scrolled": true
   },
   "outputs": [
    {
     "data": {
      "text/html": [
       "<div>\n",
       "<style scoped>\n",
       "    .dataframe tbody tr th:only-of-type {\n",
       "        vertical-align: middle;\n",
       "    }\n",
       "\n",
       "    .dataframe tbody tr th {\n",
       "        vertical-align: top;\n",
       "    }\n",
       "\n",
       "    .dataframe thead th {\n",
       "        text-align: right;\n",
       "    }\n",
       "</style>\n",
       "<table border=\"1\" class=\"dataframe\">\n",
       "  <thead>\n",
       "    <tr style=\"text-align: right;\">\n",
       "      <th></th>\n",
       "      <th>story_id</th>\n",
       "      <th>title</th>\n",
       "      <th>author</th>\n",
       "      <th>body</th>\n",
       "    </tr>\n",
       "  </thead>\n",
       "  <tbody>\n",
       "    <tr>\n",
       "      <td>2</td>\n",
       "      <td>fmz97y</td>\n",
       "      <td>I’m a leaker, but the document I’m disclosing ...</td>\n",
       "      <td>TheVaticanArchivist</td>\n",
       "      <td>*The document that I’m about to leak contains ...</td>\n",
       "    </tr>\n",
       "    <tr>\n",
       "      <td>3</td>\n",
       "      <td>fmzcxo</td>\n",
       "      <td>JIM'S NOT HERE</td>\n",
       "      <td>Max-Voynich</td>\n",
       "      <td>I leave dinner to pick up the phone, cupping m...</td>\n",
       "    </tr>\n",
       "    <tr>\n",
       "      <td>4</td>\n",
       "      <td>fmtlbu</td>\n",
       "      <td>How to Survive Camping: the town should fear me</td>\n",
       "      <td>fainting--goat</td>\n",
       "      <td>I run a private campground.  Last time I told ...</td>\n",
       "    </tr>\n",
       "    <tr>\n",
       "      <td>5</td>\n",
       "      <td>fn12rb</td>\n",
       "      <td>I’m a Retired Priest. Over the years I’ve hear...</td>\n",
       "      <td>Colourblindness</td>\n",
       "      <td>| [First Sin](https://www.reddit.com/r/nosleep...</td>\n",
       "    </tr>\n",
       "    <tr>\n",
       "      <td>6</td>\n",
       "      <td>fn577x</td>\n",
       "      <td>I work at an amusement park. Only half of the ...</td>\n",
       "      <td>girl_from_the_crypt</td>\n",
       "      <td>I should start off by explaining a couple thin...</td>\n",
       "    </tr>\n",
       "    <tr>\n",
       "      <td>...</td>\n",
       "      <td>...</td>\n",
       "      <td>...</td>\n",
       "      <td>...</td>\n",
       "      <td>...</td>\n",
       "    </tr>\n",
       "    <tr>\n",
       "      <td>97</td>\n",
       "      <td>fmg86g</td>\n",
       "      <td>Every times I punish my son for watching TV or...</td>\n",
       "      <td>Limited_Life</td>\n",
       "      <td>As the title says. Every times I punish my son...</td>\n",
       "    </tr>\n",
       "    <tr>\n",
       "      <td>98</td>\n",
       "      <td>fmg5fa</td>\n",
       "      <td>Something's wrong and for once it isn't the pe...</td>\n",
       "      <td>ArgonSteel</td>\n",
       "      <td>The time is 06:50, March 21st of 2020...\\n\\nYo...</td>\n",
       "    </tr>\n",
       "    <tr>\n",
       "      <td>99</td>\n",
       "      <td>fm5p1x</td>\n",
       "      <td>I tried lucid dreaming, it wasn't worth it.</td>\n",
       "      <td>Teffler</td>\n",
       "      <td>I had heard about lucid dreaming through a fri...</td>\n",
       "    </tr>\n",
       "    <tr>\n",
       "      <td>100</td>\n",
       "      <td>fm648g</td>\n",
       "      <td>It Creeps</td>\n",
       "      <td>BLACKMASS81</td>\n",
       "      <td>\\nI  did not believe in the supernatural. Ghos...</td>\n",
       "    </tr>\n",
       "    <tr>\n",
       "      <td>101</td>\n",
       "      <td>flkgse</td>\n",
       "      <td>\"Naughty John, Naughty John, does his work wit...</td>\n",
       "      <td>icrumi</td>\n",
       "      <td>\"Naughty John, Naughty John, does his work wit...</td>\n",
       "    </tr>\n",
       "  </tbody>\n",
       "</table>\n",
       "<p>100 rows × 4 columns</p>\n",
       "</div>"
      ],
      "text/plain": [
       "    story_id                                              title  \\\n",
       "2     fmz97y  I’m a leaker, but the document I’m disclosing ...   \n",
       "3     fmzcxo                                     JIM'S NOT HERE   \n",
       "4     fmtlbu    How to Survive Camping: the town should fear me   \n",
       "5     fn12rb  I’m a Retired Priest. Over the years I’ve hear...   \n",
       "6     fn577x  I work at an amusement park. Only half of the ...   \n",
       "..       ...                                                ...   \n",
       "97    fmg86g  Every times I punish my son for watching TV or...   \n",
       "98    fmg5fa  Something's wrong and for once it isn't the pe...   \n",
       "99    fm5p1x        I tried lucid dreaming, it wasn't worth it.   \n",
       "100   fm648g                                          It Creeps   \n",
       "101   flkgse  \"Naughty John, Naughty John, does his work wit...   \n",
       "\n",
       "                  author                                               body  \n",
       "2    TheVaticanArchivist  *The document that I’m about to leak contains ...  \n",
       "3            Max-Voynich  I leave dinner to pick up the phone, cupping m...  \n",
       "4         fainting--goat  I run a private campground.  Last time I told ...  \n",
       "5        Colourblindness  | [First Sin](https://www.reddit.com/r/nosleep...  \n",
       "6    girl_from_the_crypt  I should start off by explaining a couple thin...  \n",
       "..                   ...                                                ...  \n",
       "97          Limited_Life  As the title says. Every times I punish my son...  \n",
       "98            ArgonSteel  The time is 06:50, March 21st of 2020...\\n\\nYo...  \n",
       "99               Teffler  I had heard about lucid dreaming through a fri...  \n",
       "100          BLACKMASS81  \\nI  did not believe in the supernatural. Ghos...  \n",
       "101               icrumi  \"Naughty John, Naughty John, does his work wit...  \n",
       "\n",
       "[100 rows x 4 columns]"
      ]
     },
     "execution_count": 148,
     "metadata": {},
     "output_type": "execute_result"
    }
   ],
   "source": [
    "story_df = story_df.drop([0, 1], )\n",
    "story_df.head(100)"
   ]
  },
  {
   "cell_type": "markdown",
   "metadata": {},
   "source": [
    "# Testing LDA"
   ]
  },
  {
   "cell_type": "code",
   "execution_count": 150,
   "metadata": {
    "scrolled": true
   },
   "outputs": [
    {
     "data": {
      "text/html": [
       "<div>\n",
       "<style scoped>\n",
       "    .dataframe tbody tr th:only-of-type {\n",
       "        vertical-align: middle;\n",
       "    }\n",
       "\n",
       "    .dataframe tbody tr th {\n",
       "        vertical-align: top;\n",
       "    }\n",
       "\n",
       "    .dataframe thead th {\n",
       "        text-align: right;\n",
       "    }\n",
       "</style>\n",
       "<table border=\"1\" class=\"dataframe\">\n",
       "  <thead>\n",
       "    <tr style=\"text-align: right;\">\n",
       "      <th></th>\n",
       "      <th>story_id</th>\n",
       "      <th>title</th>\n",
       "      <th>author</th>\n",
       "      <th>body</th>\n",
       "      <th>processed</th>\n",
       "    </tr>\n",
       "  </thead>\n",
       "  <tbody>\n",
       "    <tr>\n",
       "      <td>2</td>\n",
       "      <td>fmz97y</td>\n",
       "      <td>I’m a leaker, but the document I’m disclosing ...</td>\n",
       "      <td>TheVaticanArchivist</td>\n",
       "      <td>*The document that I’m about to leak contains ...</td>\n",
       "      <td>*the document that i’m about to leak contains ...</td>\n",
       "    </tr>\n",
       "    <tr>\n",
       "      <td>3</td>\n",
       "      <td>fmzcxo</td>\n",
       "      <td>JIM'S NOT HERE</td>\n",
       "      <td>Max-Voynich</td>\n",
       "      <td>I leave dinner to pick up the phone, cupping m...</td>\n",
       "      <td>i leave dinner to pick up the phone cupping my...</td>\n",
       "    </tr>\n",
       "    <tr>\n",
       "      <td>4</td>\n",
       "      <td>fmtlbu</td>\n",
       "      <td>How to Survive Camping: the town should fear me</td>\n",
       "      <td>fainting--goat</td>\n",
       "      <td>I run a private campground.  Last time I told ...</td>\n",
       "      <td>i run a private campground  last time i told y...</td>\n",
       "    </tr>\n",
       "    <tr>\n",
       "      <td>5</td>\n",
       "      <td>fn12rb</td>\n",
       "      <td>I’m a Retired Priest. Over the years I’ve hear...</td>\n",
       "      <td>Colourblindness</td>\n",
       "      <td>| [First Sin](https://www.reddit.com/r/nosleep...</td>\n",
       "      <td>| [first sin](https://wwwredditcom/r/nosleep/c...</td>\n",
       "    </tr>\n",
       "    <tr>\n",
       "      <td>6</td>\n",
       "      <td>fn577x</td>\n",
       "      <td>I work at an amusement park. Only half of the ...</td>\n",
       "      <td>girl_from_the_crypt</td>\n",
       "      <td>I should start off by explaining a couple thin...</td>\n",
       "      <td>i should start off by explaining a couple thin...</td>\n",
       "    </tr>\n",
       "    <tr>\n",
       "      <td>...</td>\n",
       "      <td>...</td>\n",
       "      <td>...</td>\n",
       "      <td>...</td>\n",
       "      <td>...</td>\n",
       "      <td>...</td>\n",
       "    </tr>\n",
       "    <tr>\n",
       "      <td>97</td>\n",
       "      <td>fmg86g</td>\n",
       "      <td>Every times I punish my son for watching TV or...</td>\n",
       "      <td>Limited_Life</td>\n",
       "      <td>As the title says. Every times I punish my son...</td>\n",
       "      <td>as the title says every times i punish my son ...</td>\n",
       "    </tr>\n",
       "    <tr>\n",
       "      <td>98</td>\n",
       "      <td>fmg5fa</td>\n",
       "      <td>Something's wrong and for once it isn't the pe...</td>\n",
       "      <td>ArgonSteel</td>\n",
       "      <td>The time is 06:50, March 21st of 2020...\\n\\nYo...</td>\n",
       "      <td>the time is 06:50 march 21st of 2020\\n\\nyou've...</td>\n",
       "    </tr>\n",
       "    <tr>\n",
       "      <td>99</td>\n",
       "      <td>fm5p1x</td>\n",
       "      <td>I tried lucid dreaming, it wasn't worth it.</td>\n",
       "      <td>Teffler</td>\n",
       "      <td>I had heard about lucid dreaming through a fri...</td>\n",
       "      <td>i had heard about lucid dreaming through a fri...</td>\n",
       "    </tr>\n",
       "    <tr>\n",
       "      <td>100</td>\n",
       "      <td>fm648g</td>\n",
       "      <td>It Creeps</td>\n",
       "      <td>BLACKMASS81</td>\n",
       "      <td>\\nI  did not believe in the supernatural. Ghos...</td>\n",
       "      <td>\\ni  did not believe in the supernatural ghost...</td>\n",
       "    </tr>\n",
       "    <tr>\n",
       "      <td>101</td>\n",
       "      <td>flkgse</td>\n",
       "      <td>\"Naughty John, Naughty John, does his work wit...</td>\n",
       "      <td>icrumi</td>\n",
       "      <td>\"Naughty John, Naughty John, does his work wit...</td>\n",
       "      <td>\"naughty john naughty john does his work with ...</td>\n",
       "    </tr>\n",
       "  </tbody>\n",
       "</table>\n",
       "<p>100 rows × 5 columns</p>\n",
       "</div>"
      ],
      "text/plain": [
       "    story_id                                              title  \\\n",
       "2     fmz97y  I’m a leaker, but the document I’m disclosing ...   \n",
       "3     fmzcxo                                     JIM'S NOT HERE   \n",
       "4     fmtlbu    How to Survive Camping: the town should fear me   \n",
       "5     fn12rb  I’m a Retired Priest. Over the years I’ve hear...   \n",
       "6     fn577x  I work at an amusement park. Only half of the ...   \n",
       "..       ...                                                ...   \n",
       "97    fmg86g  Every times I punish my son for watching TV or...   \n",
       "98    fmg5fa  Something's wrong and for once it isn't the pe...   \n",
       "99    fm5p1x        I tried lucid dreaming, it wasn't worth it.   \n",
       "100   fm648g                                          It Creeps   \n",
       "101   flkgse  \"Naughty John, Naughty John, does his work wit...   \n",
       "\n",
       "                  author                                               body  \\\n",
       "2    TheVaticanArchivist  *The document that I’m about to leak contains ...   \n",
       "3            Max-Voynich  I leave dinner to pick up the phone, cupping m...   \n",
       "4         fainting--goat  I run a private campground.  Last time I told ...   \n",
       "5        Colourblindness  | [First Sin](https://www.reddit.com/r/nosleep...   \n",
       "6    girl_from_the_crypt  I should start off by explaining a couple thin...   \n",
       "..                   ...                                                ...   \n",
       "97          Limited_Life  As the title says. Every times I punish my son...   \n",
       "98            ArgonSteel  The time is 06:50, March 21st of 2020...\\n\\nYo...   \n",
       "99               Teffler  I had heard about lucid dreaming through a fri...   \n",
       "100          BLACKMASS81  \\nI  did not believe in the supernatural. Ghos...   \n",
       "101               icrumi  \"Naughty John, Naughty John, does his work wit...   \n",
       "\n",
       "                                             processed  \n",
       "2    *the document that i’m about to leak contains ...  \n",
       "3    i leave dinner to pick up the phone cupping my...  \n",
       "4    i run a private campground  last time i told y...  \n",
       "5    | [first sin](https://wwwredditcom/r/nosleep/c...  \n",
       "6    i should start off by explaining a couple thin...  \n",
       "..                                                 ...  \n",
       "97   as the title says every times i punish my son ...  \n",
       "98   the time is 06:50 march 21st of 2020\\n\\nyou've...  \n",
       "99   i had heard about lucid dreaming through a fri...  \n",
       "100  \\ni  did not believe in the supernatural ghost...  \n",
       "101  \"naughty john naughty john does his work with ...  \n",
       "\n",
       "[100 rows x 5 columns]"
      ]
     },
     "execution_count": 150,
     "metadata": {},
     "output_type": "execute_result"
    }
   ],
   "source": [
    "# clean text\n",
    "\n",
    "# remove punctuation\n",
    "story_df['processed'] = story_df['body'].map(lambda x: re.sub('[,\\.!?]', '', x))\n",
    "story_df.head()\n",
    "# make it all lower case\n",
    "story_df['processed'] = story_df['processed'].map(lambda x: x.lower())\n",
    "    \n",
    "story_df.head(100)"
   ]
  },
  {
   "cell_type": "markdown",
   "metadata": {},
   "source": [
    "# Creating vocabulary of all words in our data"
   ]
  },
  {
   "cell_type": "code",
   "execution_count": 158,
   "metadata": {},
   "outputs": [],
   "source": [
    "from sklearn.feature_extraction.text import CountVectorizer\n",
    "\n",
    "# we use the CountVectorizer class from the sklearn.feature_extraction.text module to create a document-term matrix. \n",
    "# We specify to only include those words that appear in less than 80% of the document and appear in at least 2 documents. \n",
    "# We also remove all the stop words as they do not really contribute to topic modeling.\n",
    "count_vect = CountVectorizer(max_df=0.8, min_df=3, stop_words='english')\n",
    "doc_term_matrix = count_vect.fit_transform(story_df['body'].values.astype('U'))"
   ]
  },
  {
   "cell_type": "code",
   "execution_count": 152,
   "metadata": {},
   "outputs": [
    {
     "data": {
      "text/plain": [
       "<498x13606 sparse matrix of type '<class 'numpy.int64'>'\n",
       "\twith 212038 stored elements in Compressed Sparse Row format>"
      ]
     },
     "execution_count": 152,
     "metadata": {},
     "output_type": "execute_result"
    }
   ],
   "source": [
    "doc_term_matrix"
   ]
  },
  {
   "cell_type": "markdown",
   "metadata": {},
   "source": [
    "# Creating topics with probability distribution for each word in our vocabulary"
   ]
  },
  {
   "cell_type": "code",
   "execution_count": 164,
   "metadata": {},
   "outputs": [
    {
     "data": {
      "text/plain": [
       "LatentDirichletAllocation(batch_size=128, doc_topic_prior=None,\n",
       "                          evaluate_every=-1, learning_decay=0.7,\n",
       "                          learning_method='batch', learning_offset=10.0,\n",
       "                          max_doc_update_iter=100, max_iter=10,\n",
       "                          mean_change_tol=0.001, n_components=10, n_jobs=None,\n",
       "                          perp_tol=0.1, random_state=80, topic_word_prior=None,\n",
       "                          total_samples=1000000.0, verbose=0)"
      ]
     },
     "execution_count": 164,
     "metadata": {},
     "output_type": "execute_result"
    }
   ],
   "source": [
    "from sklearn.decomposition import LatentDirichletAllocation\n",
    "\n",
    "# we use the LatentDirichletAllocation class from the sklearn.decomposition library to perform LDA on our document-term matrix.\n",
    "# The parameter n_components specifies the number of categories, or topics, that we want our text to be divided into.\n",
    "# The parameter random_state = the seed\n",
    "LDA = LatentDirichletAllocation(n_components=10, random_state=80)\n",
    "LDA.fit(doc_term_matrix)"
   ]
  },
  {
   "cell_type": "markdown",
   "metadata": {},
   "source": [
    "# Randomly fetching words from our vocabulary"
   ]
  },
  {
   "cell_type": "code",
   "execution_count": 165,
   "metadata": {},
   "outputs": [
    {
     "name": "stdout",
     "output_type": "stream",
     "text": [
      "efforts\n",
      "truly\n",
      "circles\n",
      "bowl\n",
      "loved\n",
      "tree\n",
      "illuminating\n",
      "disinfectant\n",
      "trapdoor\n",
      "agreement\n"
     ]
    }
   ],
   "source": [
    "import random\n",
    "\n",
    "for i in range(10):\n",
    "    random_id = random.randint(0,len(count_vect.get_feature_names()))\n",
    "    print(count_vect.get_feature_names()[random_id])"
   ]
  },
  {
   "cell_type": "markdown",
   "metadata": {},
   "source": [
    "# Find 10 words with the highest probablility for the first topic"
   ]
  },
  {
   "cell_type": "code",
   "execution_count": 166,
   "metadata": {},
   "outputs": [
    {
     "name": "stdout",
     "output_type": "stream",
     "text": [
      "door\n",
      "went\n",
      "day\n",
      "told\n",
      "asked\n",
      "got\n",
      "did\n",
      "looked\n",
      "don\n",
      "said\n"
     ]
    }
   ],
   "source": [
    "first_topic = LDA.components_[0]\n",
    "\n",
    "# Sorting the indexes according to the probability values\n",
    "# Once sorted, the 10 words with the highest probabilities will now belong to the last 10 indexes of the array. \n",
    "# The following script returns the indexes of the 10 words with the highest probabilities.\n",
    "top_topic_words = first_topic.argsort()[-10:]\n",
    "for i in top_topic_words:\n",
    "    print(count_vect.get_feature_names()[i])"
   ]
  },
  {
   "cell_type": "markdown",
   "metadata": {},
   "source": [
    "# Printing 10 words with highest probabilities for all the five topics"
   ]
  },
  {
   "cell_type": "code",
   "execution_count": 167,
   "metadata": {},
   "outputs": [
    {
     "name": "stdout",
     "output_type": "stream",
     "text": [
      "Top 10 words for topic #0:\n",
      "['door', 'went', 'day', 'told', 'asked', 'got', 'did', 'looked', 'don', 'said']\n",
      "\n",
      "\n",
      "Top 10 words for topic #1:\n",
      "['eyes', 'sam', 'felt', 'room', 'way', 'door', 'head', 'looked', 'mark', 'frankie']\n",
      "\n",
      "\n",
      "Top 10 words for topic #2:\n",
      "['long', 'knife', 'did', 'voice', 'head', 'eyes', 've', 'cheryl', 'man', 'michael']\n",
      "\n",
      "\n",
      "Top 10 words for topic #3:\n",
      "['ray', 'tim', 'got', 'beth', 'james', 'room', 'looked', 'asked', 'door', 'said']\n",
      "\n",
      "\n",
      "Top 10 words for topic #4:\n",
      "['eyes', 'man', 'town', 'don', 'people', 'roger', 'said', 'old', 'house', 'felt']\n",
      "\n",
      "\n",
      "Top 10 words for topic #5:\n",
      "['security', 'night', 'room', 'thing', 'minutes', 'creature', 'school', 'rules', 'said', 'door']\n",
      "\n",
      "\n",
      "Top 10 words for topic #6:\n",
      "['eyes', 'looked', 'got', 'cole', 'thing', 'said', 'kyle', 'girlfriend', 'grandma', 'dog']\n",
      "\n",
      "\n",
      "Top 10 words for topic #7:\n",
      "['home', 'went', 'got', 'night', 'really', 've', 'house', 'door', 'don', 'room']\n",
      "\n",
      "\n",
      "Top 10 words for topic #8:\n",
      "['body', 'night', 'looked', 'way', 'head', 'felt', 'said', 'room', 'eyes', 'door']\n",
      "\n",
      "\n",
      "Top 10 words for topic #9:\n",
      "['saw', 'felt', 'old', 'don', 'room', 'head', 'thing', 'face', 'eyes', 'x200b']\n",
      "\n",
      "\n"
     ]
    }
   ],
   "source": [
    "for i,topic in enumerate(LDA.components_):\n",
    "    print(f'Top 10 words for topic #{i}:')\n",
    "    print([count_vect.get_feature_names()[i] for i in topic.argsort()[-10:]])\n",
    "    print('\\n')"
   ]
  },
  {
   "cell_type": "markdown",
   "metadata": {},
   "source": [
    "# Adding topic to the stories"
   ]
  },
  {
   "cell_type": "code",
   "execution_count": 168,
   "metadata": {},
   "outputs": [
    {
     "data": {
      "text/html": [
       "<div>\n",
       "<style scoped>\n",
       "    .dataframe tbody tr th:only-of-type {\n",
       "        vertical-align: middle;\n",
       "    }\n",
       "\n",
       "    .dataframe tbody tr th {\n",
       "        vertical-align: top;\n",
       "    }\n",
       "\n",
       "    .dataframe thead th {\n",
       "        text-align: right;\n",
       "    }\n",
       "</style>\n",
       "<table border=\"1\" class=\"dataframe\">\n",
       "  <thead>\n",
       "    <tr style=\"text-align: right;\">\n",
       "      <th></th>\n",
       "      <th>story_id</th>\n",
       "      <th>title</th>\n",
       "      <th>author</th>\n",
       "      <th>body</th>\n",
       "      <th>processed</th>\n",
       "      <th>Topic</th>\n",
       "    </tr>\n",
       "  </thead>\n",
       "  <tbody>\n",
       "    <tr>\n",
       "      <td>2</td>\n",
       "      <td>fmz97y</td>\n",
       "      <td>I’m a leaker, but the document I’m disclosing ...</td>\n",
       "      <td>TheVaticanArchivist</td>\n",
       "      <td>*The document that I’m about to leak contains ...</td>\n",
       "      <td>*the document that i’m about to leak contains ...</td>\n",
       "      <td>8</td>\n",
       "    </tr>\n",
       "    <tr>\n",
       "      <td>3</td>\n",
       "      <td>fmzcxo</td>\n",
       "      <td>JIM'S NOT HERE</td>\n",
       "      <td>Max-Voynich</td>\n",
       "      <td>I leave dinner to pick up the phone, cupping m...</td>\n",
       "      <td>i leave dinner to pick up the phone cupping my...</td>\n",
       "      <td>9</td>\n",
       "    </tr>\n",
       "    <tr>\n",
       "      <td>4</td>\n",
       "      <td>fmtlbu</td>\n",
       "      <td>How to Survive Camping: the town should fear me</td>\n",
       "      <td>fainting--goat</td>\n",
       "      <td>I run a private campground.  Last time I told ...</td>\n",
       "      <td>i run a private campground  last time i told y...</td>\n",
       "      <td>4</td>\n",
       "    </tr>\n",
       "    <tr>\n",
       "      <td>5</td>\n",
       "      <td>fn12rb</td>\n",
       "      <td>I’m a Retired Priest. Over the years I’ve hear...</td>\n",
       "      <td>Colourblindness</td>\n",
       "      <td>| [First Sin](https://www.reddit.com/r/nosleep...</td>\n",
       "      <td>| [first sin](https://wwwredditcom/r/nosleep/c...</td>\n",
       "      <td>0</td>\n",
       "    </tr>\n",
       "    <tr>\n",
       "      <td>6</td>\n",
       "      <td>fn577x</td>\n",
       "      <td>I work at an amusement park. Only half of the ...</td>\n",
       "      <td>girl_from_the_crypt</td>\n",
       "      <td>I should start off by explaining a couple thin...</td>\n",
       "      <td>i should start off by explaining a couple thin...</td>\n",
       "      <td>6</td>\n",
       "    </tr>\n",
       "    <tr>\n",
       "      <td>...</td>\n",
       "      <td>...</td>\n",
       "      <td>...</td>\n",
       "      <td>...</td>\n",
       "      <td>...</td>\n",
       "      <td>...</td>\n",
       "      <td>...</td>\n",
       "    </tr>\n",
       "    <tr>\n",
       "      <td>97</td>\n",
       "      <td>fmg86g</td>\n",
       "      <td>Every times I punish my son for watching TV or...</td>\n",
       "      <td>Limited_Life</td>\n",
       "      <td>As the title says. Every times I punish my son...</td>\n",
       "      <td>as the title says every times i punish my son ...</td>\n",
       "      <td>5</td>\n",
       "    </tr>\n",
       "    <tr>\n",
       "      <td>98</td>\n",
       "      <td>fmg5fa</td>\n",
       "      <td>Something's wrong and for once it isn't the pe...</td>\n",
       "      <td>ArgonSteel</td>\n",
       "      <td>The time is 06:50, March 21st of 2020...\\n\\nYo...</td>\n",
       "      <td>the time is 06:50 march 21st of 2020\\n\\nyou've...</td>\n",
       "      <td>0</td>\n",
       "    </tr>\n",
       "    <tr>\n",
       "      <td>99</td>\n",
       "      <td>fm5p1x</td>\n",
       "      <td>I tried lucid dreaming, it wasn't worth it.</td>\n",
       "      <td>Teffler</td>\n",
       "      <td>I had heard about lucid dreaming through a fri...</td>\n",
       "      <td>i had heard about lucid dreaming through a fri...</td>\n",
       "      <td>8</td>\n",
       "    </tr>\n",
       "    <tr>\n",
       "      <td>100</td>\n",
       "      <td>fm648g</td>\n",
       "      <td>It Creeps</td>\n",
       "      <td>BLACKMASS81</td>\n",
       "      <td>\\nI  did not believe in the supernatural. Ghos...</td>\n",
       "      <td>\\ni  did not believe in the supernatural ghost...</td>\n",
       "      <td>9</td>\n",
       "    </tr>\n",
       "    <tr>\n",
       "      <td>101</td>\n",
       "      <td>flkgse</td>\n",
       "      <td>\"Naughty John, Naughty John, does his work wit...</td>\n",
       "      <td>icrumi</td>\n",
       "      <td>\"Naughty John, Naughty John, does his work wit...</td>\n",
       "      <td>\"naughty john naughty john does his work with ...</td>\n",
       "      <td>0</td>\n",
       "    </tr>\n",
       "  </tbody>\n",
       "</table>\n",
       "<p>100 rows × 6 columns</p>\n",
       "</div>"
      ],
      "text/plain": [
       "    story_id                                              title  \\\n",
       "2     fmz97y  I’m a leaker, but the document I’m disclosing ...   \n",
       "3     fmzcxo                                     JIM'S NOT HERE   \n",
       "4     fmtlbu    How to Survive Camping: the town should fear me   \n",
       "5     fn12rb  I’m a Retired Priest. Over the years I’ve hear...   \n",
       "6     fn577x  I work at an amusement park. Only half of the ...   \n",
       "..       ...                                                ...   \n",
       "97    fmg86g  Every times I punish my son for watching TV or...   \n",
       "98    fmg5fa  Something's wrong and for once it isn't the pe...   \n",
       "99    fm5p1x        I tried lucid dreaming, it wasn't worth it.   \n",
       "100   fm648g                                          It Creeps   \n",
       "101   flkgse  \"Naughty John, Naughty John, does his work wit...   \n",
       "\n",
       "                  author                                               body  \\\n",
       "2    TheVaticanArchivist  *The document that I’m about to leak contains ...   \n",
       "3            Max-Voynich  I leave dinner to pick up the phone, cupping m...   \n",
       "4         fainting--goat  I run a private campground.  Last time I told ...   \n",
       "5        Colourblindness  | [First Sin](https://www.reddit.com/r/nosleep...   \n",
       "6    girl_from_the_crypt  I should start off by explaining a couple thin...   \n",
       "..                   ...                                                ...   \n",
       "97          Limited_Life  As the title says. Every times I punish my son...   \n",
       "98            ArgonSteel  The time is 06:50, March 21st of 2020...\\n\\nYo...   \n",
       "99               Teffler  I had heard about lucid dreaming through a fri...   \n",
       "100          BLACKMASS81  \\nI  did not believe in the supernatural. Ghos...   \n",
       "101               icrumi  \"Naughty John, Naughty John, does his work wit...   \n",
       "\n",
       "                                             processed  Topic  \n",
       "2    *the document that i’m about to leak contains ...      8  \n",
       "3    i leave dinner to pick up the phone cupping my...      9  \n",
       "4    i run a private campground  last time i told y...      4  \n",
       "5    | [first sin](https://wwwredditcom/r/nosleep/c...      0  \n",
       "6    i should start off by explaining a couple thin...      6  \n",
       "..                                                 ...    ...  \n",
       "97   as the title says every times i punish my son ...      5  \n",
       "98   the time is 06:50 march 21st of 2020\\n\\nyou've...      0  \n",
       "99   i had heard about lucid dreaming through a fri...      8  \n",
       "100  \\ni  did not believe in the supernatural ghost...      9  \n",
       "101  \"naughty john naughty john does his work with ...      0  \n",
       "\n",
       "[100 rows x 6 columns]"
      ]
     },
     "execution_count": 168,
     "metadata": {},
     "output_type": "execute_result"
    }
   ],
   "source": [
    "topic_values = LDA.transform(doc_term_matrix)\n",
    "topic_values.shape\n",
    "\n",
    "# The following script adds a new column for topic in the data frame \n",
    "# and assigns the topic value to each row in the column\n",
    "story_df['Topic'] = topic_values.argmax(axis=1)\n",
    "story_df.head(100)"
   ]
  },
  {
   "cell_type": "code",
   "execution_count": null,
   "metadata": {},
   "outputs": [],
   "source": []
  }
 ],
 "metadata": {
  "kernelspec": {
   "display_name": "Python 3",
   "language": "python",
   "name": "python3"
  },
  "language_info": {
   "codemirror_mode": {
    "name": "ipython",
    "version": 3
   },
   "file_extension": ".py",
   "mimetype": "text/x-python",
   "name": "python",
   "nbconvert_exporter": "python",
   "pygments_lexer": "ipython3",
   "version": "3.7.4"
  }
 },
 "nbformat": 4,
 "nbformat_minor": 2
}
