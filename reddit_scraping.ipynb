{
 "cells": [
  {
   "cell_type": "code",
   "execution_count": 56,
   "metadata": {},
   "outputs": [
    {
     "name": "stdout",
     "output_type": "stream",
     "text": [
      "[nltk_data] Downloading package stopwords to\n",
      "[nltk_data]     /Users/jakob.barke/nltk_data...\n",
      "[nltk_data]   Package stopwords is already up-to-date!\n",
      "[nltk_data] Downloading package names to\n",
      "[nltk_data]     /Users/jakob.barke/nltk_data...\n",
      "[nltk_data]   Package names is already up-to-date!\n",
      "[nltk_data] Downloading package punkt to\n",
      "[nltk_data]     /Users/jakob.barke/nltk_data...\n",
      "[nltk_data]   Package punkt is already up-to-date!\n",
      "[nltk_data] Downloading package averaged_perceptron_tagger to\n",
      "[nltk_data]     /Users/jakob.barke/nltk_data...\n",
      "[nltk_data]   Package averaged_perceptron_tagger is already up-to-\n",
      "[nltk_data]       date!\n",
      "[nltk_data] Downloading package wordnet to\n",
      "[nltk_data]     /Users/jakob.barke/nltk_data...\n",
      "[nltk_data]   Package wordnet is already up-to-date!\n"
     ]
    }
   ],
   "source": [
    "import pandas as pd\n",
    "import numpy as np\n",
    "import datetime\n",
    "import praw\n",
    "from collections import Counter\n",
    "import string\n",
    "\n",
    "import requests\n",
    "import requests.auth\n",
    "import pandas as pd\n",
    "import time\n",
    "import json\n",
    "import time\n",
    "import boto3\n",
    "import ast\n",
    "\n",
    "import re\n",
    "\n",
    "import nltk\n",
    "nltk.download('stopwords')\n",
    "nltk.download('names')\n",
    "nltk.download('punkt')\n",
    "nltk.download('averaged_perceptron_tagger')\n",
    "nltk.download('wordnet')\n",
    "from nltk.corpus import stopwords\n",
    "from nltk.corpus import names\n",
    "from nltk.tokenize import word_tokenize\n",
    "from nltk.stem import WordNetLemmatizer\n",
    "from nltk.corpus import wordnet\n",
    "from nltk.stem import PorterStemmer \n",
    "\n",
    "from sklearn.decomposition import LatentDirichletAllocation as LDA\n",
    "from sklearn.feature_extraction.text import TfidfVectorizer\n",
    "from sklearn.feature_extraction.text import CountVectorizer\n",
    "from sklearn.decomposition import NMF\n",
    "\n",
    "from sklearn.utils.extmath import randomized_svd\n",
    "from sklearn.cluster import KMeans\n",
    "\n",
    "from sklearn.metrics import silhouette_score\n",
    "\n",
    "import matplotlib.pyplot as plt\n",
    "\n",
    "import gensim\n",
    "import gensim.corpora as corpora\n",
    "from gensim.models import HdpModel\n",
    "from gensim.utils import lemmatize"
   ]
  },
  {
   "cell_type": "markdown",
   "metadata": {},
   "source": [
    "# Reading in the data"
   ]
  },
  {
   "cell_type": "markdown",
   "metadata": {},
   "source": [
    "Note on below: I downloaded the data.txt file from the S3 bucket using the credentials that Sanjeev emailed out. I saved the data.txt file in a different folder, not the one that this notebook is in. I don't want to be pushing and pulling 47k stories to github.\n",
    "\n",
    "Also, if Jupyter notebook gives you some rate limit issue opening the file in here (it did for me), you can fix that by following the directions in this link: https://stackoverflow.com/questions/43288550/iopub-data-rate-exceeded-in-jupyter-notebook-when-viewing-image"
   ]
  },
  {
   "cell_type": "code",
   "execution_count": 29,
   "metadata": {},
   "outputs": [],
   "source": [
    "d = {\"author\": [], \"author_fullname\": [], \"full_link\": [], \"id\": [], \"score\": [], \"selftext\": [], \"title\": [], \"sortKey\": []}\n",
    "with open(\"../nosleep-data/data.txt\") as f:\n",
    "        for line in f:\n",
    "            line = ast.literal_eval(line)\n",
    "            d[\"author\"].append(line[\"author\"])\n",
    "            d[\"author_fullname\"].append(line[\"author_fullname\"])\n",
    "            d[\"full_link\"].append(line[\"full_link\"])\n",
    "            d[\"id\"].append(line[\"id\"])\n",
    "            d[\"score\"].append(line[\"score\"])\n",
    "            d[\"selftext\"].append(line[\"selftext\"])\n",
    "            d[\"title\"].append(line[\"title\"])\n",
    "            d[\"sortKey\"].append(line[\"sortKey\"])"
   ]
  },
  {
   "cell_type": "code",
   "execution_count": 30,
   "metadata": {},
   "outputs": [
    {
     "data": {
      "text/html": [
       "<div>\n",
       "<style scoped>\n",
       "    .dataframe tbody tr th:only-of-type {\n",
       "        vertical-align: middle;\n",
       "    }\n",
       "\n",
       "    .dataframe tbody tr th {\n",
       "        vertical-align: top;\n",
       "    }\n",
       "\n",
       "    .dataframe thead th {\n",
       "        text-align: right;\n",
       "    }\n",
       "</style>\n",
       "<table border=\"1\" class=\"dataframe\">\n",
       "  <thead>\n",
       "    <tr style=\"text-align: right;\">\n",
       "      <th></th>\n",
       "      <th>author</th>\n",
       "      <th>author_fullname</th>\n",
       "      <th>full_link</th>\n",
       "      <th>id</th>\n",
       "      <th>score</th>\n",
       "      <th>selftext</th>\n",
       "      <th>title</th>\n",
       "      <th>sortKey</th>\n",
       "    </tr>\n",
       "  </thead>\n",
       "  <tbody>\n",
       "    <tr>\n",
       "      <th>0</th>\n",
       "      <td>GloriousWilliam666</td>\n",
       "      <td>t2_2uxklusg</td>\n",
       "      <td>https://www.reddit.com/r/nosleep/comments/abf5...</td>\n",
       "      <td>abf59b</td>\n",
       "      <td>1</td>\n",
       "      <td>It was 10:30 of new years night. I was sitting...</td>\n",
       "      <td>New Year's Demon</td>\n",
       "      <td>1546491600</td>\n",
       "    </tr>\n",
       "    <tr>\n",
       "      <th>1</th>\n",
       "      <td>Offic3r_Friendly</td>\n",
       "      <td>t2_2ukwz8im</td>\n",
       "      <td>https://www.reddit.com/r/nosleep/comments/abf8...</td>\n",
       "      <td>abf8by</td>\n",
       "      <td>1</td>\n",
       "      <td>\\n\\nI've worked in security for approximately...</td>\n",
       "      <td>It lives underneath the Campus</td>\n",
       "      <td>1546491600</td>\n",
       "    </tr>\n",
       "    <tr>\n",
       "      <th>2</th>\n",
       "      <td>iamanovelty</td>\n",
       "      <td>t2_h4aqm</td>\n",
       "      <td>https://www.reddit.com/r/nosleep/comments/abfa...</td>\n",
       "      <td>abfav7</td>\n",
       "      <td>1</td>\n",
       "      <td>I decided to start pet-sitting again.\\n\\nThis ...</td>\n",
       "      <td>Someone Swapped My Chinchillas and I Don't Kno...</td>\n",
       "      <td>1546491600</td>\n",
       "    </tr>\n",
       "    <tr>\n",
       "      <th>3</th>\n",
       "      <td>John_Drinks</td>\n",
       "      <td>t2_2vo97ouc</td>\n",
       "      <td>https://www.reddit.com/r/nosleep/comments/abfb...</td>\n",
       "      <td>abfbj9</td>\n",
       "      <td>1</td>\n",
       "      <td>\\n\\nSince the passing of my wife, I have bee...</td>\n",
       "      <td>An Appalachian Horror Story. Chapter One.</td>\n",
       "      <td>1546491600</td>\n",
       "    </tr>\n",
       "    <tr>\n",
       "      <th>4</th>\n",
       "      <td>claire_e_albers</td>\n",
       "      <td>t2_2k4wz7bm</td>\n",
       "      <td>https://www.reddit.com/r/nosleep/comments/abfk...</td>\n",
       "      <td>abfk8f</td>\n",
       "      <td>1</td>\n",
       "      <td>The women howled with laughter as they finishe...</td>\n",
       "      <td>Eyes On the Road</td>\n",
       "      <td>1546491600</td>\n",
       "    </tr>\n",
       "  </tbody>\n",
       "</table>\n",
       "</div>"
      ],
      "text/plain": [
       "               author author_fullname  \\\n",
       "0  GloriousWilliam666     t2_2uxklusg   \n",
       "1    Offic3r_Friendly     t2_2ukwz8im   \n",
       "2         iamanovelty        t2_h4aqm   \n",
       "3         John_Drinks     t2_2vo97ouc   \n",
       "4     claire_e_albers     t2_2k4wz7bm   \n",
       "\n",
       "                                           full_link      id  score  \\\n",
       "0  https://www.reddit.com/r/nosleep/comments/abf5...  abf59b      1   \n",
       "1  https://www.reddit.com/r/nosleep/comments/abf8...  abf8by      1   \n",
       "2  https://www.reddit.com/r/nosleep/comments/abfa...  abfav7      1   \n",
       "3  https://www.reddit.com/r/nosleep/comments/abfb...  abfbj9      1   \n",
       "4  https://www.reddit.com/r/nosleep/comments/abfk...  abfk8f      1   \n",
       "\n",
       "                                            selftext  \\\n",
       "0  It was 10:30 of new years night. I was sitting...   \n",
       "1   \\n\\nI've worked in security for approximately...   \n",
       "2  I decided to start pet-sitting again.\\n\\nThis ...   \n",
       "3    \\n\\nSince the passing of my wife, I have bee...   \n",
       "4  The women howled with laughter as they finishe...   \n",
       "\n",
       "                                               title     sortKey  \n",
       "0                                   New Year's Demon  1546491600  \n",
       "1                     It lives underneath the Campus  1546491600  \n",
       "2  Someone Swapped My Chinchillas and I Don't Kno...  1546491600  \n",
       "3          An Appalachian Horror Story. Chapter One.  1546491600  \n",
       "4                                   Eyes On the Road  1546491600  "
      ]
     },
     "execution_count": 30,
     "metadata": {},
     "output_type": "execute_result"
    }
   ],
   "source": [
    "story_df = pd.DataFrame(data=d)\n",
    "story_df.head()"
   ]
  },
  {
   "cell_type": "code",
   "execution_count": 31,
   "metadata": {},
   "outputs": [
    {
     "data": {
      "text/plain": [
       "(47125, 8)"
      ]
     },
     "execution_count": 31,
     "metadata": {},
     "output_type": "execute_result"
    }
   ],
   "source": [
    "story_df.shape"
   ]
  },
  {
   "cell_type": "code",
   "execution_count": 32,
   "metadata": {},
   "outputs": [
    {
     "data": {
      "text/html": [
       "<div>\n",
       "<style scoped>\n",
       "    .dataframe tbody tr th:only-of-type {\n",
       "        vertical-align: middle;\n",
       "    }\n",
       "\n",
       "    .dataframe tbody tr th {\n",
       "        vertical-align: top;\n",
       "    }\n",
       "\n",
       "    .dataframe thead th {\n",
       "        text-align: right;\n",
       "    }\n",
       "</style>\n",
       "<table border=\"1\" class=\"dataframe\">\n",
       "  <thead>\n",
       "    <tr style=\"text-align: right;\">\n",
       "      <th></th>\n",
       "      <th>author</th>\n",
       "      <th>selftext</th>\n",
       "      <th>title</th>\n",
       "    </tr>\n",
       "  </thead>\n",
       "  <tbody>\n",
       "    <tr>\n",
       "      <th>0</th>\n",
       "      <td>GloriousWilliam666</td>\n",
       "      <td>It was 10:30 of new years night. I was sitting...</td>\n",
       "      <td>New Year's Demon</td>\n",
       "    </tr>\n",
       "    <tr>\n",
       "      <th>1</th>\n",
       "      <td>Offic3r_Friendly</td>\n",
       "      <td>\\n\\nI've worked in security for approximately...</td>\n",
       "      <td>It lives underneath the Campus</td>\n",
       "    </tr>\n",
       "    <tr>\n",
       "      <th>2</th>\n",
       "      <td>iamanovelty</td>\n",
       "      <td>I decided to start pet-sitting again.\\n\\nThis ...</td>\n",
       "      <td>Someone Swapped My Chinchillas and I Don't Kno...</td>\n",
       "    </tr>\n",
       "    <tr>\n",
       "      <th>3</th>\n",
       "      <td>John_Drinks</td>\n",
       "      <td>\\n\\nSince the passing of my wife, I have bee...</td>\n",
       "      <td>An Appalachian Horror Story. Chapter One.</td>\n",
       "    </tr>\n",
       "    <tr>\n",
       "      <th>4</th>\n",
       "      <td>claire_e_albers</td>\n",
       "      <td>The women howled with laughter as they finishe...</td>\n",
       "      <td>Eyes On the Road</td>\n",
       "    </tr>\n",
       "  </tbody>\n",
       "</table>\n",
       "</div>"
      ],
      "text/plain": [
       "               author                                           selftext  \\\n",
       "0  GloriousWilliam666  It was 10:30 of new years night. I was sitting...   \n",
       "1    Offic3r_Friendly   \\n\\nI've worked in security for approximately...   \n",
       "2         iamanovelty  I decided to start pet-sitting again.\\n\\nThis ...   \n",
       "3         John_Drinks    \\n\\nSince the passing of my wife, I have bee...   \n",
       "4     claire_e_albers  The women howled with laughter as they finishe...   \n",
       "\n",
       "                                               title  \n",
       "0                                   New Year's Demon  \n",
       "1                     It lives underneath the Campus  \n",
       "2  Someone Swapped My Chinchillas and I Don't Kno...  \n",
       "3          An Appalachian Horror Story. Chapter One.  \n",
       "4                                   Eyes On the Road  "
      ]
     },
     "execution_count": 32,
     "metadata": {},
     "output_type": "execute_result"
    }
   ],
   "source": [
    "story_df = story_df.drop(columns = ['author_fullname','full_link','id','score','sortKey'])\n",
    "story_df.head()"
   ]
  },
  {
   "cell_type": "code",
   "execution_count": null,
   "metadata": {},
   "outputs": [],
   "source": []
  },
  {
   "cell_type": "markdown",
   "metadata": {},
   "source": [
    "# Data Cleaning"
   ]
  },
  {
   "cell_type": "code",
   "execution_count": 35,
   "metadata": {},
   "outputs": [
    {
     "data": {
      "text/html": [
       "<div>\n",
       "<style scoped>\n",
       "    .dataframe tbody tr th:only-of-type {\n",
       "        vertical-align: middle;\n",
       "    }\n",
       "\n",
       "    .dataframe tbody tr th {\n",
       "        vertical-align: top;\n",
       "    }\n",
       "\n",
       "    .dataframe thead th {\n",
       "        text-align: right;\n",
       "    }\n",
       "</style>\n",
       "<table border=\"1\" class=\"dataframe\">\n",
       "  <thead>\n",
       "    <tr style=\"text-align: right;\">\n",
       "      <th></th>\n",
       "      <th>author</th>\n",
       "      <th>selftext</th>\n",
       "      <th>title</th>\n",
       "      <th>processed</th>\n",
       "    </tr>\n",
       "  </thead>\n",
       "  <tbody>\n",
       "    <tr>\n",
       "      <th>0</th>\n",
       "      <td>GloriousWilliam666</td>\n",
       "      <td>It was 10:30 of new years night. I was sitting...</td>\n",
       "      <td>New Year's Demon</td>\n",
       "      <td>It was 1030 of new years night I was sitting o...</td>\n",
       "    </tr>\n",
       "    <tr>\n",
       "      <th>1</th>\n",
       "      <td>Offic3r_Friendly</td>\n",
       "      <td>\\n\\nI've worked in security for approximately...</td>\n",
       "      <td>It lives underneath the Campus</td>\n",
       "      <td>\\n\\nIve worked in security for approximately ...</td>\n",
       "    </tr>\n",
       "    <tr>\n",
       "      <th>2</th>\n",
       "      <td>iamanovelty</td>\n",
       "      <td>I decided to start pet-sitting again.\\n\\nThis ...</td>\n",
       "      <td>Someone Swapped My Chinchillas and I Don't Kno...</td>\n",
       "      <td>I decided to start petsitting again\\n\\nThis st...</td>\n",
       "    </tr>\n",
       "    <tr>\n",
       "      <th>3</th>\n",
       "      <td>John_Drinks</td>\n",
       "      <td>\\n\\nSince the passing of my wife, I have bee...</td>\n",
       "      <td>An Appalachian Horror Story. Chapter One.</td>\n",
       "      <td>\\n\\nSince the passing of my wife I have been...</td>\n",
       "    </tr>\n",
       "    <tr>\n",
       "      <th>4</th>\n",
       "      <td>claire_e_albers</td>\n",
       "      <td>The women howled with laughter as they finishe...</td>\n",
       "      <td>Eyes On the Road</td>\n",
       "      <td>The women howled with laughter as they finishe...</td>\n",
       "    </tr>\n",
       "  </tbody>\n",
       "</table>\n",
       "</div>"
      ],
      "text/plain": [
       "               author                                           selftext  \\\n",
       "0  GloriousWilliam666  It was 10:30 of new years night. I was sitting...   \n",
       "1    Offic3r_Friendly   \\n\\nI've worked in security for approximately...   \n",
       "2         iamanovelty  I decided to start pet-sitting again.\\n\\nThis ...   \n",
       "3         John_Drinks    \\n\\nSince the passing of my wife, I have bee...   \n",
       "4     claire_e_albers  The women howled with laughter as they finishe...   \n",
       "\n",
       "                                               title  \\\n",
       "0                                   New Year's Demon   \n",
       "1                     It lives underneath the Campus   \n",
       "2  Someone Swapped My Chinchillas and I Don't Kno...   \n",
       "3          An Appalachian Horror Story. Chapter One.   \n",
       "4                                   Eyes On the Road   \n",
       "\n",
       "                                           processed  \n",
       "0  It was 1030 of new years night I was sitting o...  \n",
       "1   \\n\\nIve worked in security for approximately ...  \n",
       "2  I decided to start petsitting again\\n\\nThis st...  \n",
       "3    \\n\\nSince the passing of my wife I have been...  \n",
       "4  The women howled with laughter as they finishe...  "
      ]
     },
     "execution_count": 35,
     "metadata": {},
     "output_type": "execute_result"
    }
   ],
   "source": [
    "# remove punctuation\n",
    "story_df['processed'] = story_df['selftext'].map(lambda x: x.translate(str.maketrans('', '', string.punctuation)))\n",
    "story_df.head()"
   ]
  },
  {
   "cell_type": "code",
   "execution_count": 36,
   "metadata": {},
   "outputs": [
    {
     "data": {
      "text/html": [
       "<div>\n",
       "<style scoped>\n",
       "    .dataframe tbody tr th:only-of-type {\n",
       "        vertical-align: middle;\n",
       "    }\n",
       "\n",
       "    .dataframe tbody tr th {\n",
       "        vertical-align: top;\n",
       "    }\n",
       "\n",
       "    .dataframe thead th {\n",
       "        text-align: right;\n",
       "    }\n",
       "</style>\n",
       "<table border=\"1\" class=\"dataframe\">\n",
       "  <thead>\n",
       "    <tr style=\"text-align: right;\">\n",
       "      <th></th>\n",
       "      <th>author</th>\n",
       "      <th>selftext</th>\n",
       "      <th>title</th>\n",
       "      <th>processed</th>\n",
       "    </tr>\n",
       "  </thead>\n",
       "  <tbody>\n",
       "    <tr>\n",
       "      <th>0</th>\n",
       "      <td>GloriousWilliam666</td>\n",
       "      <td>It was 10:30 of new years night. I was sitting...</td>\n",
       "      <td>New Year's Demon</td>\n",
       "      <td>it was 1030 of new years night i was sitting o...</td>\n",
       "    </tr>\n",
       "    <tr>\n",
       "      <th>1</th>\n",
       "      <td>Offic3r_Friendly</td>\n",
       "      <td>\\n\\nI've worked in security for approximately...</td>\n",
       "      <td>It lives underneath the Campus</td>\n",
       "      <td>\\n\\nive worked in security for approximately ...</td>\n",
       "    </tr>\n",
       "    <tr>\n",
       "      <th>2</th>\n",
       "      <td>iamanovelty</td>\n",
       "      <td>I decided to start pet-sitting again.\\n\\nThis ...</td>\n",
       "      <td>Someone Swapped My Chinchillas and I Don't Kno...</td>\n",
       "      <td>i decided to start petsitting again\\n\\nthis st...</td>\n",
       "    </tr>\n",
       "    <tr>\n",
       "      <th>3</th>\n",
       "      <td>John_Drinks</td>\n",
       "      <td>\\n\\nSince the passing of my wife, I have bee...</td>\n",
       "      <td>An Appalachian Horror Story. Chapter One.</td>\n",
       "      <td>\\n\\nsince the passing of my wife i have been...</td>\n",
       "    </tr>\n",
       "    <tr>\n",
       "      <th>4</th>\n",
       "      <td>claire_e_albers</td>\n",
       "      <td>The women howled with laughter as they finishe...</td>\n",
       "      <td>Eyes On the Road</td>\n",
       "      <td>the women howled with laughter as they finishe...</td>\n",
       "    </tr>\n",
       "  </tbody>\n",
       "</table>\n",
       "</div>"
      ],
      "text/plain": [
       "               author                                           selftext  \\\n",
       "0  GloriousWilliam666  It was 10:30 of new years night. I was sitting...   \n",
       "1    Offic3r_Friendly   \\n\\nI've worked in security for approximately...   \n",
       "2         iamanovelty  I decided to start pet-sitting again.\\n\\nThis ...   \n",
       "3         John_Drinks    \\n\\nSince the passing of my wife, I have bee...   \n",
       "4     claire_e_albers  The women howled with laughter as they finishe...   \n",
       "\n",
       "                                               title  \\\n",
       "0                                   New Year's Demon   \n",
       "1                     It lives underneath the Campus   \n",
       "2  Someone Swapped My Chinchillas and I Don't Kno...   \n",
       "3          An Appalachian Horror Story. Chapter One.   \n",
       "4                                   Eyes On the Road   \n",
       "\n",
       "                                           processed  \n",
       "0  it was 1030 of new years night i was sitting o...  \n",
       "1   \\n\\nive worked in security for approximately ...  \n",
       "2  i decided to start petsitting again\\n\\nthis st...  \n",
       "3    \\n\\nsince the passing of my wife i have been...  \n",
       "4  the women howled with laughter as they finishe...  "
      ]
     },
     "execution_count": 36,
     "metadata": {},
     "output_type": "execute_result"
    }
   ],
   "source": [
    "# make it all lower case\n",
    "story_df['processed'] = story_df['processed'].map(lambda x: x.lower())\n",
    "story_df.head()"
   ]
  },
  {
   "cell_type": "code",
   "execution_count": 37,
   "metadata": {},
   "outputs": [
    {
     "data": {
      "text/html": [
       "<div>\n",
       "<style scoped>\n",
       "    .dataframe tbody tr th:only-of-type {\n",
       "        vertical-align: middle;\n",
       "    }\n",
       "\n",
       "    .dataframe tbody tr th {\n",
       "        vertical-align: top;\n",
       "    }\n",
       "\n",
       "    .dataframe thead th {\n",
       "        text-align: right;\n",
       "    }\n",
       "</style>\n",
       "<table border=\"1\" class=\"dataframe\">\n",
       "  <thead>\n",
       "    <tr style=\"text-align: right;\">\n",
       "      <th></th>\n",
       "      <th>author</th>\n",
       "      <th>selftext</th>\n",
       "      <th>title</th>\n",
       "      <th>processed</th>\n",
       "    </tr>\n",
       "  </thead>\n",
       "  <tbody>\n",
       "    <tr>\n",
       "      <th>0</th>\n",
       "      <td>GloriousWilliam666</td>\n",
       "      <td>It was 10:30 of new years night. I was sitting...</td>\n",
       "      <td>New Year's Demon</td>\n",
       "      <td>1030 new years night sitting couch watching ne...</td>\n",
       "    </tr>\n",
       "    <tr>\n",
       "      <th>1</th>\n",
       "      <td>Offic3r_Friendly</td>\n",
       "      <td>\\n\\nI've worked in security for approximately...</td>\n",
       "      <td>It lives underneath the Campus</td>\n",
       "      <td>ive worked security approximately 6 years work...</td>\n",
       "    </tr>\n",
       "    <tr>\n",
       "      <th>2</th>\n",
       "      <td>iamanovelty</td>\n",
       "      <td>I decided to start pet-sitting again.\\n\\nThis ...</td>\n",
       "      <td>Someone Swapped My Chinchillas and I Don't Kno...</td>\n",
       "      <td>decided start petsitting story isn’t cujo migh...</td>\n",
       "    </tr>\n",
       "    <tr>\n",
       "      <th>3</th>\n",
       "      <td>John_Drinks</td>\n",
       "      <td>\\n\\nSince the passing of my wife, I have bee...</td>\n",
       "      <td>An Appalachian Horror Story. Chapter One.</td>\n",
       "      <td>since passing wife living quaint sizable seclu...</td>\n",
       "    </tr>\n",
       "    <tr>\n",
       "      <th>4</th>\n",
       "      <td>claire_e_albers</td>\n",
       "      <td>The women howled with laughter as they finishe...</td>\n",
       "      <td>Eyes On the Road</td>\n",
       "      <td>women howled laughter finished second bottle w...</td>\n",
       "    </tr>\n",
       "  </tbody>\n",
       "</table>\n",
       "</div>"
      ],
      "text/plain": [
       "               author                                           selftext  \\\n",
       "0  GloriousWilliam666  It was 10:30 of new years night. I was sitting...   \n",
       "1    Offic3r_Friendly   \\n\\nI've worked in security for approximately...   \n",
       "2         iamanovelty  I decided to start pet-sitting again.\\n\\nThis ...   \n",
       "3         John_Drinks    \\n\\nSince the passing of my wife, I have bee...   \n",
       "4     claire_e_albers  The women howled with laughter as they finishe...   \n",
       "\n",
       "                                               title  \\\n",
       "0                                   New Year's Demon   \n",
       "1                     It lives underneath the Campus   \n",
       "2  Someone Swapped My Chinchillas and I Don't Kno...   \n",
       "3          An Appalachian Horror Story. Chapter One.   \n",
       "4                                   Eyes On the Road   \n",
       "\n",
       "                                           processed  \n",
       "0  1030 new years night sitting couch watching ne...  \n",
       "1  ive worked security approximately 6 years work...  \n",
       "2  decided start petsitting story isn’t cujo migh...  \n",
       "3  since passing wife living quaint sizable seclu...  \n",
       "4  women howled laughter finished second bottle w...  "
      ]
     },
     "execution_count": 37,
     "metadata": {},
     "output_type": "execute_result"
    }
   ],
   "source": [
    "# remove stop words and names\n",
    "\n",
    "combined_stops = names.words('male.txt')\n",
    "combined_stops.extend(stopwords.words('english'))\n",
    "combined_stops.extend(names.words('female.txt'))\n",
    "combined_stops = set(combined_stops)\n",
    "\n",
    "story_df['processed'] = story_df['processed'].map(lambda x: ' '.join(y for y in x.split() if y not in combined_stops))\n",
    "story_df.head()"
   ]
  },
  {
   "cell_type": "code",
   "execution_count": 46,
   "metadata": {},
   "outputs": [],
   "source": [
    "# helper function for lemmatizer\n",
    "def get_wordnet_pos(word):\n",
    "    \"\"\"Map POS tag to first character lemmatize() accepts\"\"\"\n",
    "    tag = nltk.pos_tag([word])[0][1][0].upper()\n",
    "    tag_dict = {\"J\": wordnet.ADJ,\n",
    "                \"N\": wordnet.NOUN,\n",
    "                \"V\": wordnet.VERB,\n",
    "                \"R\": wordnet.ADV}\n",
    "\n",
    "    return tag_dict.get(tag, wordnet.NOUN)"
   ]
  },
  {
   "cell_type": "code",
   "execution_count": 64,
   "metadata": {},
   "outputs": [
    {
     "data": {
      "text/html": [
       "<div>\n",
       "<style scoped>\n",
       "    .dataframe tbody tr th:only-of-type {\n",
       "        vertical-align: middle;\n",
       "    }\n",
       "\n",
       "    .dataframe tbody tr th {\n",
       "        vertical-align: top;\n",
       "    }\n",
       "\n",
       "    .dataframe thead th {\n",
       "        text-align: right;\n",
       "    }\n",
       "</style>\n",
       "<table border=\"1\" class=\"dataframe\">\n",
       "  <thead>\n",
       "    <tr style=\"text-align: right;\">\n",
       "      <th></th>\n",
       "      <th>author</th>\n",
       "      <th>selftext</th>\n",
       "      <th>title</th>\n",
       "      <th>processed</th>\n",
       "    </tr>\n",
       "  </thead>\n",
       "  <tbody>\n",
       "    <tr>\n",
       "      <th>0</th>\n",
       "      <td>GloriousWilliam666</td>\n",
       "      <td>It was 10:30 of new years night. I was sitting...</td>\n",
       "      <td>New Year's Demon</td>\n",
       "      <td>[1030, new, year, night, sit, couch, watch, ne...</td>\n",
       "    </tr>\n",
       "    <tr>\n",
       "      <th>1</th>\n",
       "      <td>Offic3r_Friendly</td>\n",
       "      <td>\\n\\nI've worked in security for approximately...</td>\n",
       "      <td>It lives underneath the Campus</td>\n",
       "      <td>[ive, work, secur, approxim, 6, year, work, ma...</td>\n",
       "    </tr>\n",
       "    <tr>\n",
       "      <th>2</th>\n",
       "      <td>iamanovelty</td>\n",
       "      <td>I decided to start pet-sitting again.\\n\\nThis ...</td>\n",
       "      <td>Someone Swapped My Chinchillas and I Don't Kno...</td>\n",
       "      <td>[decid, start, petsit, stori, isn’t, cujo, mig...</td>\n",
       "    </tr>\n",
       "    <tr>\n",
       "      <th>3</th>\n",
       "      <td>John_Drinks</td>\n",
       "      <td>\\n\\nSince the passing of my wife, I have bee...</td>\n",
       "      <td>An Appalachian Horror Story. Chapter One.</td>\n",
       "      <td>[sinc, pass, wife, live, quaint, sizabl, seclu...</td>\n",
       "    </tr>\n",
       "    <tr>\n",
       "      <th>4</th>\n",
       "      <td>claire_e_albers</td>\n",
       "      <td>The women howled with laughter as they finishe...</td>\n",
       "      <td>Eyes On the Road</td>\n",
       "      <td>[women, howl, laughter, finish, second, bottl,...</td>\n",
       "    </tr>\n",
       "  </tbody>\n",
       "</table>\n",
       "</div>"
      ],
      "text/plain": [
       "               author                                           selftext  \\\n",
       "0  GloriousWilliam666  It was 10:30 of new years night. I was sitting...   \n",
       "1    Offic3r_Friendly   \\n\\nI've worked in security for approximately...   \n",
       "2         iamanovelty  I decided to start pet-sitting again.\\n\\nThis ...   \n",
       "3         John_Drinks    \\n\\nSince the passing of my wife, I have bee...   \n",
       "4     claire_e_albers  The women howled with laughter as they finishe...   \n",
       "\n",
       "                                               title  \\\n",
       "0                                   New Year's Demon   \n",
       "1                     It lives underneath the Campus   \n",
       "2  Someone Swapped My Chinchillas and I Don't Kno...   \n",
       "3          An Appalachian Horror Story. Chapter One.   \n",
       "4                                   Eyes On the Road   \n",
       "\n",
       "                                           processed  \n",
       "0  [1030, new, year, night, sit, couch, watch, ne...  \n",
       "1  [ive, work, secur, approxim, 6, year, work, ma...  \n",
       "2  [decid, start, petsit, stori, isn’t, cujo, mig...  \n",
       "3  [sinc, pass, wife, live, quaint, sizabl, seclu...  \n",
       "4  [women, howl, laughter, finish, second, bottl,...  "
      ]
     },
     "execution_count": 64,
     "metadata": {},
     "output_type": "execute_result"
    }
   ],
   "source": [
    "# stem the words\n",
    "stemmer = PorterStemmer() \n",
    "story_df['processed'] = story_df['processed'].map(lambda x: [stemmer.stem(y) for y in x.split()])\n",
    "story_df.head()"
   ]
  },
  {
   "cell_type": "code",
   "execution_count": 65,
   "metadata": {},
   "outputs": [
    {
     "data": {
      "text/html": [
       "<div>\n",
       "<style scoped>\n",
       "    .dataframe tbody tr th:only-of-type {\n",
       "        vertical-align: middle;\n",
       "    }\n",
       "\n",
       "    .dataframe tbody tr th {\n",
       "        vertical-align: top;\n",
       "    }\n",
       "\n",
       "    .dataframe thead th {\n",
       "        text-align: right;\n",
       "    }\n",
       "</style>\n",
       "<table border=\"1\" class=\"dataframe\">\n",
       "  <thead>\n",
       "    <tr style=\"text-align: right;\">\n",
       "      <th></th>\n",
       "      <th>author</th>\n",
       "      <th>selftext</th>\n",
       "      <th>title</th>\n",
       "      <th>processed</th>\n",
       "    </tr>\n",
       "  </thead>\n",
       "  <tbody>\n",
       "    <tr>\n",
       "      <th>0</th>\n",
       "      <td>GloriousWilliam666</td>\n",
       "      <td>It was 10:30 of new years night. I was sitting...</td>\n",
       "      <td>New Year's Demon</td>\n",
       "      <td>[new, year, night, sit, couch, watch, news, wa...</td>\n",
       "    </tr>\n",
       "    <tr>\n",
       "      <th>1</th>\n",
       "      <td>Offic3r_Friendly</td>\n",
       "      <td>\\n\\nI've worked in security for approximately...</td>\n",
       "      <td>It lives underneath the Campus</td>\n",
       "      <td>[ive, work, secur, approxim, year, work, mani,...</td>\n",
       "    </tr>\n",
       "    <tr>\n",
       "      <th>2</th>\n",
       "      <td>iamanovelty</td>\n",
       "      <td>I decided to start pet-sitting again.\\n\\nThis ...</td>\n",
       "      <td>Someone Swapped My Chinchillas and I Don't Kno...</td>\n",
       "      <td>[decid, start, petsit, stori, isn’t, cujo, mig...</td>\n",
       "    </tr>\n",
       "    <tr>\n",
       "      <th>3</th>\n",
       "      <td>John_Drinks</td>\n",
       "      <td>\\n\\nSince the passing of my wife, I have bee...</td>\n",
       "      <td>An Appalachian Horror Story. Chapter One.</td>\n",
       "      <td>[sinc, pass, wife, live, quaint, sizabl, seclu...</td>\n",
       "    </tr>\n",
       "    <tr>\n",
       "      <th>4</th>\n",
       "      <td>claire_e_albers</td>\n",
       "      <td>The women howled with laughter as they finishe...</td>\n",
       "      <td>Eyes On the Road</td>\n",
       "      <td>[women, howl, laughter, finish, second, bottl,...</td>\n",
       "    </tr>\n",
       "  </tbody>\n",
       "</table>\n",
       "</div>"
      ],
      "text/plain": [
       "               author                                           selftext  \\\n",
       "0  GloriousWilliam666  It was 10:30 of new years night. I was sitting...   \n",
       "1    Offic3r_Friendly   \\n\\nI've worked in security for approximately...   \n",
       "2         iamanovelty  I decided to start pet-sitting again.\\n\\nThis ...   \n",
       "3         John_Drinks    \\n\\nSince the passing of my wife, I have bee...   \n",
       "4     claire_e_albers  The women howled with laughter as they finishe...   \n",
       "\n",
       "                                               title  \\\n",
       "0                                   New Year's Demon   \n",
       "1                     It lives underneath the Campus   \n",
       "2  Someone Swapped My Chinchillas and I Don't Kno...   \n",
       "3          An Appalachian Horror Story. Chapter One.   \n",
       "4                                   Eyes On the Road   \n",
       "\n",
       "                                           processed  \n",
       "0  [new, year, night, sit, couch, watch, news, wa...  \n",
       "1  [ive, work, secur, approxim, year, work, mani,...  \n",
       "2  [decid, start, petsit, stori, isn’t, cujo, mig...  \n",
       "3  [sinc, pass, wife, live, quaint, sizabl, seclu...  \n",
       "4  [women, howl, laughter, finish, second, bottl,...  "
      ]
     },
     "execution_count": 65,
     "metadata": {},
     "output_type": "execute_result"
    }
   ],
   "source": [
    "# removing numbers\n",
    "story_df['processed'] = story_df['processed'].map(lambda x: [item for item in x if not item.isdigit()])\n",
    "story_df.head()"
   ]
  },
  {
   "cell_type": "code",
   "execution_count": 73,
   "metadata": {},
   "outputs": [
    {
     "ename": "NameError",
     "evalue": "name 'outp_file' is not defined",
     "output_type": "error",
     "traceback": [
      "\u001b[0;31m---------------------------------------------------------------------------\u001b[0m",
      "\u001b[0;31mNameError\u001b[0m                                 Traceback (most recent call last)",
      "\u001b[0;32m<ipython-input-73-7f09dd42f450>\u001b[0m in \u001b[0;36m<module>\u001b[0;34m()\u001b[0m\n\u001b[1;32m      1\u001b[0m \u001b[0;31m# export cleaned dataframe to an excel doc\u001b[0m\u001b[0;34m\u001b[0m\u001b[0;34m\u001b[0m\u001b[0m\n\u001b[0;32m----> 2\u001b[0;31m \u001b[0moutp_file\u001b[0m\u001b[0;34m.\u001b[0m\u001b[0mwrite\u001b[0m\u001b[0;34m(\u001b[0m\u001b[0mstory_df\u001b[0m\u001b[0;34m.\u001b[0m\u001b[0mto_csv\u001b[0m\u001b[0;34m(\u001b[0m\u001b[0;34m)\u001b[0m\u001b[0;34m.\u001b[0m\u001b[0mencode\u001b[0m\u001b[0;34m(\u001b[0m\u001b[0;34m'utf-8'\u001b[0m\u001b[0;34m,\u001b[0m \u001b[0;34m'replace'\u001b[0m\u001b[0;34m)\u001b[0m\u001b[0;34m.\u001b[0m\u001b[0mdecode\u001b[0m\u001b[0;34m(\u001b[0m\u001b[0;34m'utf-8'\u001b[0m\u001b[0;34m)\u001b[0m\u001b[0;34m)\u001b[0m\u001b[0;34m\u001b[0m\u001b[0m\n\u001b[0m",
      "\u001b[0;31mNameError\u001b[0m: name 'outp_file' is not defined"
     ]
    }
   ],
   "source": [
    "# export cleaned dataframe to an excel doc\n",
    "#outp_file.write(story_df.to_csv().encode('utf-8', 'replace').decode('utf-8'))"
   ]
  },
  {
   "cell_type": "markdown",
   "metadata": {},
   "source": [
    "# Trying HDP-LDA using the Gensim library"
   ]
  },
  {
   "cell_type": "code",
   "execution_count": 74,
   "metadata": {},
   "outputs": [],
   "source": [
    "# Create Dictionary\n",
    "id2word = corpora.Dictionary(story_df['processed'])\n",
    "\n",
    "# Create Corpus\n",
    "texts = story_df['processed']\n",
    "\n",
    "# Term Document Frequency\n",
    "corpus = [id2word.doc2bow(text) for text in texts]"
   ]
  },
  {
   "cell_type": "code",
   "execution_count": 75,
   "metadata": {},
   "outputs": [],
   "source": [
    "hdpmodel = HdpModel(corpus=corpus, id2word=id2word)"
   ]
  },
  {
   "cell_type": "code",
   "execution_count": 76,
   "metadata": {},
   "outputs": [],
   "source": [
    "hdptopics = hdpmodel.show_topics(formatted=False)"
   ]
  },
  {
   "cell_type": "code",
   "execution_count": 90,
   "metadata": {},
   "outputs": [],
   "source": [
    "def topic_prob_extractor(gensim_hdp, t=-1, w=25, isSorted=True):\n",
    "    \"\"\"\n",
    "    Input the gensim model to get the rough topics' probabilities\n",
    "    \"\"\"\n",
    "    shown_topics = gensim_hdp.show_topics(num_topics=t, num_words=w ,formatted=False)\n",
    "    topics_nos = [x[0] for x in shown_topics ]\n",
    "    weights = [ sum([item[1] for item in shown_topics[topicN][1]]) for topicN in topics_nos ]\n",
    "    if (isSorted):\n",
    "        return pd.DataFrame({'topic_id' : topics_nos, 'weight' : weights}).sort_values(by = \"weight\", ascending=False);\n",
    "    else:\n",
    "        return pd.DataFrame({'topic_id' : topics_nos, 'weight' : weights});"
   ]
  },
  {
   "cell_type": "code",
   "execution_count": 93,
   "metadata": {},
   "outputs": [
    {
     "data": {
      "text/html": [
       "<div>\n",
       "<style scoped>\n",
       "    .dataframe tbody tr th:only-of-type {\n",
       "        vertical-align: middle;\n",
       "    }\n",
       "\n",
       "    .dataframe tbody tr th {\n",
       "        vertical-align: top;\n",
       "    }\n",
       "\n",
       "    .dataframe thead th {\n",
       "        text-align: right;\n",
       "    }\n",
       "</style>\n",
       "<table border=\"1\" class=\"dataframe\">\n",
       "  <thead>\n",
       "    <tr style=\"text-align: right;\">\n",
       "      <th></th>\n",
       "      <th>topic_id</th>\n",
       "      <th>weight</th>\n",
       "    </tr>\n",
       "  </thead>\n",
       "  <tbody>\n",
       "    <tr>\n",
       "      <th>5</th>\n",
       "      <td>5</td>\n",
       "      <td>0.186276</td>\n",
       "    </tr>\n",
       "    <tr>\n",
       "      <th>17</th>\n",
       "      <td>17</td>\n",
       "      <td>0.145884</td>\n",
       "    </tr>\n",
       "    <tr>\n",
       "      <th>20</th>\n",
       "      <td>20</td>\n",
       "      <td>0.144317</td>\n",
       "    </tr>\n",
       "    <tr>\n",
       "      <th>4</th>\n",
       "      <td>4</td>\n",
       "      <td>0.140664</td>\n",
       "    </tr>\n",
       "    <tr>\n",
       "      <th>7</th>\n",
       "      <td>7</td>\n",
       "      <td>0.133823</td>\n",
       "    </tr>\n",
       "  </tbody>\n",
       "</table>\n",
       "</div>"
      ],
      "text/plain": [
       "    topic_id    weight\n",
       "5          5  0.186276\n",
       "17        17  0.145884\n",
       "20        20  0.144317\n",
       "4          4  0.140664\n",
       "7          7  0.133823"
      ]
     },
     "execution_count": 93,
     "metadata": {},
     "output_type": "execute_result"
    }
   ],
   "source": [
    "topics = topic_prob_extractor(hdpmodel)\n",
    "topics.head()"
   ]
  },
  {
   "cell_type": "code",
   "execution_count": 94,
   "metadata": {},
   "outputs": [
    {
     "data": {
      "image/png": "[encoded data removed]",
      "text/plain": [
       "<Figure size 432x288 with 1 Axes>"
      ]
     },
     "metadata": {},
     "output_type": "display_data"
    }
   ],
   "source": [
    "plt.plot(rangetopics['weight'])\n",
    "plt.show()"
   ]
  },
  {
   "cell_type": "markdown",
   "metadata": {},
   "source": [
    "# Non-negative Matrix Factorization"
   ]
  },
  {
   "cell_type": "markdown",
   "metadata": {},
   "source": [
    "This method should be disregarded. It takes way too long to run and it's really hard to determine the \"right\" amount of topics to use. I'm leaving it in here for when we have to write our progress report."
   ]
  },
  {
   "cell_type": "code",
   "execution_count": 10,
   "metadata": {},
   "outputs": [],
   "source": [
    "# Make a TF-IDF\n",
    "tfidf_vect = TfidfVectorizer(max_df=0.8, min_df=2, stop_words=None, decode_error=\"replace\")\n",
    "doc_term_matrix = tfidf_vect.fit_transform(story_df['processed'].values)"
   ]
  },
  {
   "cell_type": "code",
   "execution_count": 11,
   "metadata": {},
   "outputs": [
    {
     "name": "stdout",
     "output_type": "stream",
     "text": [
      "5\n",
      "15\n",
      "25\n",
      "35\n",
      "45\n",
      "55\n",
      "65\n",
      "75\n",
      "85\n",
      "95\n"
     ]
    }
   ],
   "source": [
    "# Need to tune n_components\n",
    "errors = []\n",
    "for i in range(5,100,10):\n",
    "    print(i)\n",
    "    nmf = NMF(n_components=i, random_state=42)\n",
    "    nmf = nmf.fit(doc_term_matrix )\n",
    "    errors.append(nmf.reconstruction_err_)"
   ]
  },
  {
   "cell_type": "code",
   "execution_count": 12,
   "metadata": {},
   "outputs": [
    {
     "data": {
      "text/plain": [
       "[185.39558501413458,\n",
       " 183.25519852563295,\n",
       " 181.95236838123353,\n",
       " 180.85081104827208,\n",
       " 179.8827149141605,\n",
       " 179.05851195493125,\n",
       " 178.23408061388184,\n",
       " 177.40889349999222,\n",
       " 176.71209153499058,\n",
       " 176.0112027145298]"
      ]
     },
     "execution_count": 12,
     "metadata": {},
     "output_type": "execute_result"
    }
   ],
   "source": [
    "errors"
   ]
  },
  {
   "cell_type": "code",
   "execution_count": 13,
   "metadata": {},
   "outputs": [
    {
     "data": {
      "image/png": "[encoded data removed]",
      "text/plain": [
       "<Figure size 432x288 with 1 Axes>"
      ]
     },
     "metadata": {},
     "output_type": "display_data"
    }
   ],
   "source": [
    "plt.plot(range(5,100,10),errors)\n",
    "plt.show()"
   ]
  },
  {
   "cell_type": "markdown",
   "metadata": {},
   "source": [
    "# Appendix"
   ]
  },
  {
   "cell_type": "code",
   "execution_count": null,
   "metadata": {},
   "outputs": [],
   "source": [
    "my_subreddit = subreddit.new(limit=1)\n",
    "for submission in my_subreddit:\n",
    "    print(submission.title)\n",
    "    print('     ')\n",
    "    all_comments = submission.comments.list()\n",
    "    for comment in all_comments:\n",
    "        #print(vars(comment))\n",
    "        print(comment.body)\n",
    "        print(comment.author)\n",
    "        print(comment.likes)\n",
    "        print('-------')"
   ]
  },
  {
   "cell_type": "markdown",
   "metadata": {},
   "source": [
    "For the below, follow the directions here https://www.storybench.org/how-to-scrape-reddit-with-python/"
   ]
  },
  {
   "cell_type": "code",
   "execution_count": null,
   "metadata": {},
   "outputs": [],
   "source": [
    "PERSONAL_USE_SCRIPT_14_CHARS = 'you_personal_use_script'\n",
    "SECRET_KEY_27_CHARS = 'your_secret_key'\n",
    "YOUR_APP_NAME = 'your_app_name'\n",
    "YOUR_REDDIT_USER_NAME = 'your_reddit_name'\n",
    "YOUR_REDDIT_LOGIN_PASSWORD = 'your_password'"
   ]
  },
  {
   "cell_type": "code",
   "execution_count": null,
   "metadata": {},
   "outputs": [],
   "source": [
    "reddit = praw.Reddit(client_id=PERSONAL_USE_SCRIPT_14_CHARS,\n",
    "                     client_secret=SECRET_KEY_27_CHARS,\n",
    "                     password=YOUR_REDDIT_LOGIN_PASSWORD,\n",
    "                     user_agent=YOUR_APP_NAME,\n",
    "                     username=YOUR_REDDIT_USER_NAME)"
   ]
  },
  {
   "cell_type": "code",
   "execution_count": null,
   "metadata": {},
   "outputs": [],
   "source": [
    "print(reddit.user.me())"
   ]
  },
  {
   "cell_type": "code",
   "execution_count": null,
   "metadata": {},
   "outputs": [],
   "source": [
    "subreddit = reddit.subreddit('nosleep')"
   ]
  },
  {
   "cell_type": "code",
   "execution_count": null,
   "metadata": {},
   "outputs": [],
   "source": [
    "stories_dict = {\"story_id\": [],\n",
    "                \"title\": [],\n",
    "               \"author\": [],\n",
    "               \"body\": []}"
   ]
  },
  {
   "cell_type": "code",
   "execution_count": null,
   "metadata": {},
   "outputs": [],
   "source": [
    "'''\n",
    "comments_dict = {\"story_id\":[],\n",
    "                \"comment_author\": [],\n",
    "                \"comment_body\": []}\n",
    "'''"
   ]
  },
  {
   "cell_type": "code",
   "execution_count": null,
   "metadata": {},
   "outputs": [],
   "source": [
    "my_subreddit = subreddit.hot(limit=500)\n",
    "for submission in my_subreddit:\n",
    "    stories_dict[\"title\"].append(submission.title)\n",
    "    stories_dict[\"body\"].append(submission.selftext)\n",
    "    stories_dict[\"author\"].append(submission.author)\n",
    "    stories_dict[\"story_id\"].append(submission.id)\n",
    "    all_comments = submission.comments.list()\n",
    "    '''\n",
    "    for comment in all_comments:\n",
    "        comments_dict[\"story_id\"].append(submission.id)\n",
    "        comments_dict[\"comment_body\"].append(comment.body)\n",
    "        comments_dict[\"comment_author\"].append(comment.author)\n",
    "    '''"
   ]
  },
  {
   "cell_type": "code",
   "execution_count": null,
   "metadata": {},
   "outputs": [],
   "source": [
    "story_df = pd.DataFrame(stories_dict)\n",
    "story_df.head()"
   ]
  },
  {
   "cell_type": "code",
   "execution_count": null,
   "metadata": {},
   "outputs": [],
   "source": [
    "story_df = story_df.drop([0, 1], )\n",
    "story_df.head()"
   ]
  },
  {
   "cell_type": "code",
   "execution_count": null,
   "metadata": {},
   "outputs": [],
   "source": [
    "story_df.shape"
   ]
  },
  {
   "cell_type": "code",
   "execution_count": null,
   "metadata": {},
   "outputs": [],
   "source": [
    "for i,topic in enumerate(nmf.components_):\n",
    "    print(f'Top 10 words for topic #{i}:')\n",
    "    print([tfidf_vect.get_feature_names()[i] for i in topic.argsort()[-10:]])\n",
    "    print('\\n')"
   ]
  },
  {
   "cell_type": "code",
   "execution_count": null,
   "metadata": {},
   "outputs": [],
   "source": [
    "scores = []\n",
    "for i in range(2,50):\n",
    "    km = KMeans(n_clusters=i).fit(X)\n",
    "    labels = km.labels_\n",
    "    score = silhouette_score(X, labels, metric='cosine')\n",
    "    scores.append(score)"
   ]
  },
  {
   "cell_type": "code",
   "execution_count": null,
   "metadata": {},
   "outputs": [],
   "source": [
    "plt.plot(range(2,50),scores)\n",
    "plt.show()"
   ]
  },
  {
   "cell_type": "markdown",
   "metadata": {},
   "source": [
    "# Comment Analysis"
   ]
  },
  {
   "cell_type": "code",
   "execution_count": null,
   "metadata": {},
   "outputs": [],
   "source": [
    "my_subreddit = subreddit.new(limit=1)\n",
    "for submission in my_subreddit:\n",
    "    print(submission.title)\n",
    "    print('     ')\n",
    "    all_comments = submission.comments.list()\n",
    "    for comment in all_comments:\n",
    "        #print(vars(comment))\n",
    "        print(comment.body)\n",
    "        print(comment.author)\n",
    "        print(comment.likes)\n",
    "        print('-------')"
   ]
  },
  {
   "cell_type": "code",
   "execution_count": null,
   "metadata": {},
   "outputs": [],
   "source": []
  },
  {
   "cell_type": "code",
   "execution_count": null,
   "metadata": {},
   "outputs": [],
   "source": []
  }
 ],
 "metadata": {
  "kernelspec": {
   "display_name": "Python 3",
   "language": "python",
   "name": "python3"
  },
  "language_info": {
   "codemirror_mode": {
    "name": "ipython",
    "version": 3
   },
   "file_extension": ".py",
   "mimetype": "text/x-python",
   "name": "python",
   "nbconvert_exporter": "python",
   "pygments_lexer": "ipython3",
   "version": "3.6.5"
  }
 },
 "nbformat": 4,
 "nbformat_minor": 2
}
