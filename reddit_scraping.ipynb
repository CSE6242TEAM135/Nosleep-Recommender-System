{
 "cells": [
  {
   "cell_type": "code",
   "execution_count": 60,
   "metadata": {},
   "outputs": [
    {
     "name": "stdout",
     "output_type": "stream",
     "text": [
      "[nltk_data] Downloading package stopwords to\n",
      "[nltk_data]     /Users/jakob.barke/nltk_data...\n",
      "[nltk_data]   Package stopwords is already up-to-date!\n"
     ]
    }
   ],
   "source": [
    "import pandas as pd\n",
    "import datetime as dt\n",
    "import praw\n",
    "from collections import Counter\n",
    "\n",
    "import re\n",
    "\n",
    "import nltk\n",
    "nltk.download('stopwords')\n",
    "from nltk.corpus import stopwords\n",
    "\n",
    "from sklearn.decomposition import LatentDirichletAllocation as LDA\n",
    "from sklearn.feature_extraction.text import TfidfVectorizer\n",
    "\n",
    "from sklearn.utils.extmath import randomized_svd\n",
    "from sklearn.cluster import KMeans\n",
    "\n",
    "from sklearn.metrics import silhouette_score\n",
    "\n",
    "import matplotlib.pyplot as plt"
   ]
  },
  {
   "cell_type": "markdown",
   "metadata": {},
   "source": [
    "For the below, follow the directions here https://www.storybench.org/how-to-scrape-reddit-with-python/"
   ]
  },
  {
   "cell_type": "code",
   "execution_count": 66,
   "metadata": {},
   "outputs": [],
   "source": [
    "PERSONAL_USE_SCRIPT_14_CHARS = 'your personal use'\n",
    "SECRET_KEY_27_CHARS = 'your secret key'\n",
    "YOUR_APP_NAME = 'your app name'\n",
    "YOUR_REDDIT_USER_NAME = 'jbdevtestaccount'\n",
    "YOUR_REDDIT_LOGIN_PASSWORD = 'your reddit password'"
   ]
  },
  {
   "cell_type": "code",
   "execution_count": 67,
   "metadata": {},
   "outputs": [],
   "source": [
    "reddit = praw.Reddit(client_id=PERSONAL_USE_SCRIPT_14_CHARS,\n",
    "                     client_secret=SECRET_KEY_27_CHARS,\n",
    "                     password=YOUR_REDDIT_LOGIN_PASSWORD,\n",
    "                     user_agent=YOUR_APP_NAME,\n",
    "                     username=YOUR_REDDIT_USER_NAME)"
   ]
  },
  {
   "cell_type": "code",
   "execution_count": 68,
   "metadata": {},
   "outputs": [
    {
     "name": "stdout",
     "output_type": "stream",
     "text": [
      "jbdevtestaccount\n"
     ]
    }
   ],
   "source": [
    "print(reddit.user.me())"
   ]
  },
  {
   "cell_type": "code",
   "execution_count": 69,
   "metadata": {},
   "outputs": [],
   "source": [
    "subreddit = reddit.subreddit('nosleep')"
   ]
  },
  {
   "cell_type": "markdown",
   "metadata": {},
   "source": [
    "# Gettting Stories and Comments"
   ]
  },
  {
   "cell_type": "code",
   "execution_count": 70,
   "metadata": {},
   "outputs": [],
   "source": [
    "stories_dict = {\"story_id\": [],\n",
    "                \"title\": [],\n",
    "               \"author\": [],\n",
    "               \"body\": []}"
   ]
  },
  {
   "cell_type": "code",
   "execution_count": 71,
   "metadata": {},
   "outputs": [],
   "source": [
    "comments_dict = {\"story_id\":[],\n",
    "                \"comment_author\": [],\n",
    "                \"comment_body\": []}"
   ]
  },
  {
   "cell_type": "code",
   "execution_count": 72,
   "metadata": {},
   "outputs": [],
   "source": [
    "my_subreddit = subreddit.hot(limit=100)\n",
    "for submission in my_subreddit:\n",
    "    stories_dict[\"title\"].append(submission.title)\n",
    "    stories_dict[\"body\"].append(submission.selftext)\n",
    "    stories_dict[\"author\"].append(submission.author)\n",
    "    stories_dict[\"story_id\"].append(submission.id)\n",
    "    all_comments = submission.comments.list()\n",
    "    for comment in all_comments:\n",
    "        comments_dict[\"story_id\"].append(submission.id)\n",
    "        comments_dict[\"comment_body\"].append(comment.body)\n",
    "        comments_dict[\"comment_author\"].append(comment.author)"
   ]
  },
  {
   "cell_type": "code",
   "execution_count": 73,
   "metadata": {},
   "outputs": [
    {
     "data": {
      "text/html": [
       "<div>\n",
       "<style scoped>\n",
       "    .dataframe tbody tr th:only-of-type {\n",
       "        vertical-align: middle;\n",
       "    }\n",
       "\n",
       "    .dataframe tbody tr th {\n",
       "        vertical-align: top;\n",
       "    }\n",
       "\n",
       "    .dataframe thead th {\n",
       "        text-align: right;\n",
       "    }\n",
       "</style>\n",
       "<table border=\"1\" class=\"dataframe\">\n",
       "  <thead>\n",
       "    <tr style=\"text-align: right;\">\n",
       "      <th></th>\n",
       "      <th>story_id</th>\n",
       "      <th>title</th>\n",
       "      <th>author</th>\n",
       "      <th>body</th>\n",
       "    </tr>\n",
       "  </thead>\n",
       "  <tbody>\n",
       "    <tr>\n",
       "      <th>0</th>\n",
       "      <td>fdub8s</td>\n",
       "      <td>February 2020 contest nominations</td>\n",
       "      <td>TheCusterWolf</td>\n",
       "      <td></td>\n",
       "    </tr>\n",
       "    <tr>\n",
       "      <th>1</th>\n",
       "      <td>fecu80</td>\n",
       "      <td>January 2020 Winners!</td>\n",
       "      <td>poppy_moonray</td>\n",
       "      <td></td>\n",
       "    </tr>\n",
       "    <tr>\n",
       "      <th>2</th>\n",
       "      <td>flz2nh</td>\n",
       "      <td>How to survive the apocalypse</td>\n",
       "      <td>rikndikndakn123</td>\n",
       "      <td>With virus outbreaks, global warming, nuclear ...</td>\n",
       "    </tr>\n",
       "    <tr>\n",
       "      <th>3</th>\n",
       "      <td>flozq1</td>\n",
       "      <td>Whatever you do, don't ever look at the gap be...</td>\n",
       "      <td>not_neccesarily</td>\n",
       "      <td>I was taking the train back home when I first ...</td>\n",
       "    </tr>\n",
       "    <tr>\n",
       "      <th>4</th>\n",
       "      <td>flvy6s</td>\n",
       "      <td>I’ve been trapped inside an Empty Prison for t...</td>\n",
       "      <td>Colourblindness</td>\n",
       "      <td>[Part 1](https://www.reddit.com/r/nosleep/comm...</td>\n",
       "    </tr>\n",
       "  </tbody>\n",
       "</table>\n",
       "</div>"
      ],
      "text/plain": [
       "  story_id                                              title  \\\n",
       "0   fdub8s                  February 2020 contest nominations   \n",
       "1   fecu80                              January 2020 Winners!   \n",
       "2   flz2nh                      How to survive the apocalypse   \n",
       "3   flozq1  Whatever you do, don't ever look at the gap be...   \n",
       "4   flvy6s  I’ve been trapped inside an Empty Prison for t...   \n",
       "\n",
       "            author                                               body  \n",
       "0    TheCusterWolf                                                     \n",
       "1    poppy_moonray                                                     \n",
       "2  rikndikndakn123  With virus outbreaks, global warming, nuclear ...  \n",
       "3  not_neccesarily  I was taking the train back home when I first ...  \n",
       "4  Colourblindness  [Part 1](https://www.reddit.com/r/nosleep/comm...  "
      ]
     },
     "execution_count": 73,
     "metadata": {},
     "output_type": "execute_result"
    }
   ],
   "source": [
    "story_df = pd.DataFrame(stories_dict)\n",
    "story_df.head()"
   ]
  },
  {
   "cell_type": "code",
   "execution_count": 74,
   "metadata": {},
   "outputs": [
    {
     "data": {
      "text/html": [
       "<div>\n",
       "<style scoped>\n",
       "    .dataframe tbody tr th:only-of-type {\n",
       "        vertical-align: middle;\n",
       "    }\n",
       "\n",
       "    .dataframe tbody tr th {\n",
       "        vertical-align: top;\n",
       "    }\n",
       "\n",
       "    .dataframe thead th {\n",
       "        text-align: right;\n",
       "    }\n",
       "</style>\n",
       "<table border=\"1\" class=\"dataframe\">\n",
       "  <thead>\n",
       "    <tr style=\"text-align: right;\">\n",
       "      <th></th>\n",
       "      <th>story_id</th>\n",
       "      <th>title</th>\n",
       "      <th>author</th>\n",
       "      <th>body</th>\n",
       "    </tr>\n",
       "  </thead>\n",
       "  <tbody>\n",
       "    <tr>\n",
       "      <th>2</th>\n",
       "      <td>flz2nh</td>\n",
       "      <td>How to survive the apocalypse</td>\n",
       "      <td>rikndikndakn123</td>\n",
       "      <td>With virus outbreaks, global warming, nuclear ...</td>\n",
       "    </tr>\n",
       "    <tr>\n",
       "      <th>3</th>\n",
       "      <td>flozq1</td>\n",
       "      <td>Whatever you do, don't ever look at the gap be...</td>\n",
       "      <td>not_neccesarily</td>\n",
       "      <td>I was taking the train back home when I first ...</td>\n",
       "    </tr>\n",
       "    <tr>\n",
       "      <th>4</th>\n",
       "      <td>flvy6s</td>\n",
       "      <td>I’ve been trapped inside an Empty Prison for t...</td>\n",
       "      <td>Colourblindness</td>\n",
       "      <td>[Part 1](https://www.reddit.com/r/nosleep/comm...</td>\n",
       "    </tr>\n",
       "    <tr>\n",
       "      <th>5</th>\n",
       "      <td>fly9ld</td>\n",
       "      <td>The Wolf at the Door</td>\n",
       "      <td>Verastahl</td>\n",
       "      <td>\\n\\nThe door opened to a smiling, middle-aged ...</td>\n",
       "    </tr>\n",
       "    <tr>\n",
       "      <th>6</th>\n",
       "      <td>fm014m</td>\n",
       "      <td>I work for Styx Taxis, I drive souls to the af...</td>\n",
       "      <td>midniteauth0r</td>\n",
       "      <td>Do something for me, will ya? I want you to t...</td>\n",
       "    </tr>\n",
       "  </tbody>\n",
       "</table>\n",
       "</div>"
      ],
      "text/plain": [
       "  story_id                                              title  \\\n",
       "2   flz2nh                      How to survive the apocalypse   \n",
       "3   flozq1  Whatever you do, don't ever look at the gap be...   \n",
       "4   flvy6s  I’ve been trapped inside an Empty Prison for t...   \n",
       "5   fly9ld                               The Wolf at the Door   \n",
       "6   fm014m  I work for Styx Taxis, I drive souls to the af...   \n",
       "\n",
       "            author                                               body  \n",
       "2  rikndikndakn123  With virus outbreaks, global warming, nuclear ...  \n",
       "3  not_neccesarily  I was taking the train back home when I first ...  \n",
       "4  Colourblindness  [Part 1](https://www.reddit.com/r/nosleep/comm...  \n",
       "5        Verastahl  \\n\\nThe door opened to a smiling, middle-aged ...  \n",
       "6    midniteauth0r   Do something for me, will ya? I want you to t...  "
      ]
     },
     "execution_count": 74,
     "metadata": {},
     "output_type": "execute_result"
    }
   ],
   "source": [
    "story_df = story_df.drop([0, 1], )\n",
    "story_df.head()"
   ]
  },
  {
   "cell_type": "markdown",
   "metadata": {},
   "source": [
    "# Testing LDA"
   ]
  },
  {
   "cell_type": "code",
   "execution_count": 75,
   "metadata": {},
   "outputs": [
    {
     "data": {
      "text/html": [
       "<div>\n",
       "<style scoped>\n",
       "    .dataframe tbody tr th:only-of-type {\n",
       "        vertical-align: middle;\n",
       "    }\n",
       "\n",
       "    .dataframe tbody tr th {\n",
       "        vertical-align: top;\n",
       "    }\n",
       "\n",
       "    .dataframe thead th {\n",
       "        text-align: right;\n",
       "    }\n",
       "</style>\n",
       "<table border=\"1\" class=\"dataframe\">\n",
       "  <thead>\n",
       "    <tr style=\"text-align: right;\">\n",
       "      <th></th>\n",
       "      <th>story_id</th>\n",
       "      <th>title</th>\n",
       "      <th>author</th>\n",
       "      <th>body</th>\n",
       "      <th>processed</th>\n",
       "    </tr>\n",
       "  </thead>\n",
       "  <tbody>\n",
       "    <tr>\n",
       "      <th>2</th>\n",
       "      <td>flz2nh</td>\n",
       "      <td>How to survive the apocalypse</td>\n",
       "      <td>rikndikndakn123</td>\n",
       "      <td>With virus outbreaks, global warming, nuclear ...</td>\n",
       "      <td>With virus outbreaks global warming nuclear we...</td>\n",
       "    </tr>\n",
       "    <tr>\n",
       "      <th>3</th>\n",
       "      <td>flozq1</td>\n",
       "      <td>Whatever you do, don't ever look at the gap be...</td>\n",
       "      <td>not_neccesarily</td>\n",
       "      <td>I was taking the train back home when I first ...</td>\n",
       "      <td>I was taking the train back home when I first ...</td>\n",
       "    </tr>\n",
       "    <tr>\n",
       "      <th>4</th>\n",
       "      <td>flvy6s</td>\n",
       "      <td>I’ve been trapped inside an Empty Prison for t...</td>\n",
       "      <td>Colourblindness</td>\n",
       "      <td>[Part 1](https://www.reddit.com/r/nosleep/comm...</td>\n",
       "      <td>[Part 1](https://wwwredditcom/r/nosleep/commen...</td>\n",
       "    </tr>\n",
       "    <tr>\n",
       "      <th>5</th>\n",
       "      <td>fly9ld</td>\n",
       "      <td>The Wolf at the Door</td>\n",
       "      <td>Verastahl</td>\n",
       "      <td>\\n\\nThe door opened to a smiling, middle-aged ...</td>\n",
       "      <td>\\n\\nThe door opened to a smiling middle-aged w...</td>\n",
       "    </tr>\n",
       "    <tr>\n",
       "      <th>6</th>\n",
       "      <td>fm014m</td>\n",
       "      <td>I work for Styx Taxis, I drive souls to the af...</td>\n",
       "      <td>midniteauth0r</td>\n",
       "      <td>Do something for me, will ya? I want you to t...</td>\n",
       "      <td>Do something for me will ya I want you to thi...</td>\n",
       "    </tr>\n",
       "  </tbody>\n",
       "</table>\n",
       "</div>"
      ],
      "text/plain": [
       "  story_id                                              title  \\\n",
       "2   flz2nh                      How to survive the apocalypse   \n",
       "3   flozq1  Whatever you do, don't ever look at the gap be...   \n",
       "4   flvy6s  I’ve been trapped inside an Empty Prison for t...   \n",
       "5   fly9ld                               The Wolf at the Door   \n",
       "6   fm014m  I work for Styx Taxis, I drive souls to the af...   \n",
       "\n",
       "            author                                               body  \\\n",
       "2  rikndikndakn123  With virus outbreaks, global warming, nuclear ...   \n",
       "3  not_neccesarily  I was taking the train back home when I first ...   \n",
       "4  Colourblindness  [Part 1](https://www.reddit.com/r/nosleep/comm...   \n",
       "5        Verastahl  \\n\\nThe door opened to a smiling, middle-aged ...   \n",
       "6    midniteauth0r   Do something for me, will ya? I want you to t...   \n",
       "\n",
       "                                           processed  \n",
       "2  With virus outbreaks global warming nuclear we...  \n",
       "3  I was taking the train back home when I first ...  \n",
       "4  [Part 1](https://wwwredditcom/r/nosleep/commen...  \n",
       "5  \\n\\nThe door opened to a smiling middle-aged w...  \n",
       "6   Do something for me will ya I want you to thi...  "
      ]
     },
     "execution_count": 75,
     "metadata": {},
     "output_type": "execute_result"
    }
   ],
   "source": [
    "# clean text\n",
    "\n",
    "# remove punctuation\n",
    "story_df['processed'] = story_df['body'].map(lambda x: re.sub('[,\\.!?]', '', x))\n",
    "story_df.head()"
   ]
  },
  {
   "cell_type": "code",
   "execution_count": 76,
   "metadata": {},
   "outputs": [
    {
     "data": {
      "text/html": [
       "<div>\n",
       "<style scoped>\n",
       "    .dataframe tbody tr th:only-of-type {\n",
       "        vertical-align: middle;\n",
       "    }\n",
       "\n",
       "    .dataframe tbody tr th {\n",
       "        vertical-align: top;\n",
       "    }\n",
       "\n",
       "    .dataframe thead th {\n",
       "        text-align: right;\n",
       "    }\n",
       "</style>\n",
       "<table border=\"1\" class=\"dataframe\">\n",
       "  <thead>\n",
       "    <tr style=\"text-align: right;\">\n",
       "      <th></th>\n",
       "      <th>story_id</th>\n",
       "      <th>title</th>\n",
       "      <th>author</th>\n",
       "      <th>body</th>\n",
       "      <th>processed</th>\n",
       "    </tr>\n",
       "  </thead>\n",
       "  <tbody>\n",
       "    <tr>\n",
       "      <th>2</th>\n",
       "      <td>flz2nh</td>\n",
       "      <td>How to survive the apocalypse</td>\n",
       "      <td>rikndikndakn123</td>\n",
       "      <td>With virus outbreaks, global warming, nuclear ...</td>\n",
       "      <td>with virus outbreaks global warming nuclear we...</td>\n",
       "    </tr>\n",
       "    <tr>\n",
       "      <th>3</th>\n",
       "      <td>flozq1</td>\n",
       "      <td>Whatever you do, don't ever look at the gap be...</td>\n",
       "      <td>not_neccesarily</td>\n",
       "      <td>I was taking the train back home when I first ...</td>\n",
       "      <td>i was taking the train back home when i first ...</td>\n",
       "    </tr>\n",
       "    <tr>\n",
       "      <th>4</th>\n",
       "      <td>flvy6s</td>\n",
       "      <td>I’ve been trapped inside an Empty Prison for t...</td>\n",
       "      <td>Colourblindness</td>\n",
       "      <td>[Part 1](https://www.reddit.com/r/nosleep/comm...</td>\n",
       "      <td>[part 1](https://wwwredditcom/r/nosleep/commen...</td>\n",
       "    </tr>\n",
       "    <tr>\n",
       "      <th>5</th>\n",
       "      <td>fly9ld</td>\n",
       "      <td>The Wolf at the Door</td>\n",
       "      <td>Verastahl</td>\n",
       "      <td>\\n\\nThe door opened to a smiling, middle-aged ...</td>\n",
       "      <td>\\n\\nthe door opened to a smiling middle-aged w...</td>\n",
       "    </tr>\n",
       "    <tr>\n",
       "      <th>6</th>\n",
       "      <td>fm014m</td>\n",
       "      <td>I work for Styx Taxis, I drive souls to the af...</td>\n",
       "      <td>midniteauth0r</td>\n",
       "      <td>Do something for me, will ya? I want you to t...</td>\n",
       "      <td>do something for me will ya i want you to thi...</td>\n",
       "    </tr>\n",
       "  </tbody>\n",
       "</table>\n",
       "</div>"
      ],
      "text/plain": [
       "  story_id                                              title  \\\n",
       "2   flz2nh                      How to survive the apocalypse   \n",
       "3   flozq1  Whatever you do, don't ever look at the gap be...   \n",
       "4   flvy6s  I’ve been trapped inside an Empty Prison for t...   \n",
       "5   fly9ld                               The Wolf at the Door   \n",
       "6   fm014m  I work for Styx Taxis, I drive souls to the af...   \n",
       "\n",
       "            author                                               body  \\\n",
       "2  rikndikndakn123  With virus outbreaks, global warming, nuclear ...   \n",
       "3  not_neccesarily  I was taking the train back home when I first ...   \n",
       "4  Colourblindness  [Part 1](https://www.reddit.com/r/nosleep/comm...   \n",
       "5        Verastahl  \\n\\nThe door opened to a smiling, middle-aged ...   \n",
       "6    midniteauth0r   Do something for me, will ya? I want you to t...   \n",
       "\n",
       "                                           processed  \n",
       "2  with virus outbreaks global warming nuclear we...  \n",
       "3  i was taking the train back home when i first ...  \n",
       "4  [part 1](https://wwwredditcom/r/nosleep/commen...  \n",
       "5  \\n\\nthe door opened to a smiling middle-aged w...  \n",
       "6   do something for me will ya i want you to thi...  "
      ]
     },
     "execution_count": 76,
     "metadata": {},
     "output_type": "execute_result"
    }
   ],
   "source": [
    "# make it all lower case\n",
    "story_df['processed'] = story_df['processed'].map(lambda x: x.lower())\n",
    "story_df.head()"
   ]
  },
  {
   "cell_type": "code",
   "execution_count": 77,
   "metadata": {},
   "outputs": [
    {
     "data": {
      "text/plain": [
       "'virus outbreaks global warming nuclear weapons destructive events matter time world know gone simple rules outlined cdc help stay alive events disasters: &#x200b; 1 trust one chances run humans see wastelands ignore beg help food offer go journey don’t listen follow around get desperate warn dangers close point behind convincing manner don’t acknowledge presence circumstances goes you’re shelter bunker knock door beg let ignore leave may return may hear voices doors loved ones friends ignore can’t harm long ignore eventually sun comes burrow back underground make sure put salt around pile dirt similar pile run wasteland 2 stay inside rain rain acidic burn skin slowly painfully even protective suit find shelter immediately even it’s meager tree come rain long stay cover fine you’re far away shelter try pay attention movement around may see peripheral vision silhouettes moving cover cover always line sight try follow movement let get drop always try attack behind long you’re facing direction fine 3 don’t eat unfamiliar food food contaminated stick canned good (the ones you’re sure intact) avoid eating insects dead animals new typed parasites hide carcasses dead animals foods wait ingested desperate hungry traveler inside intestines grow course next months healthy enough need host burrow way body 4 don’t drink river water stick bottled water use water purifiers boil water circumstances drink rivers ponds etc really choice use something long grab water distance get closer 2 feet water put hand inside best-case scenario you’ll pull arm find stump place hand wound anything look like you’ve always missing hand worst-case scenario you’ll get pulled water make sure strain water cloth something similar case dangerous plants insects inside river bugs cunning hardly visible even clear water drink making sure it’s safe may feel sharp pang pain mouth upon inspecting mouth you’ll realize tongue gone instead parasite attached stump don’t try removing bite deeper retaliation eats hole throat you’ll live make sure always enough nutrients otherwise start eat 5 dismember burnt ones see badly burnt people wasteland don’t waste bullets can’t killed way matter best thing sever limbs even cut half waist they’ll continue crawling towards see running away help always know matter go that’s crippling essential 6 check body daily abnormalities whenever chance make sure inspect thoroughly anything wasn’t see scars blisters bruises things believe shouldn’t monitor closely upcoming days get bigger cut part body it’s limb amputate it’s torso try carve may cut deeper depending severity infection don’t worry won’t ever get deeper bone 7 travel night wasteland full hostile things try kill night they’re going harder time noticing hear footsteps behind traveling don’t stop keep walking don’t run – don’t want let thing behind know you’re aware leave dawn can’t stop moving hope don’t encounter early night walking 8-9 hours dawn hell keep mind dangerous things come day find shelter soon you’re clear 8 shoot head lose hope decide take easy way ending make sure stab shoot brain you’ve wasteland long chances contracted reanimating virus it’s dormant brain becomes active heart stops doesn’t reanimate corpse brings back problem sort coma aware everything virus control actions destroy brain prevent becoming zombified puppet 9 avoid well-supplied houses something looks good true probably inspect kitchen storage house find well-stocked supplies like canned goods water etc get immediately it’s trap inhabitants house catch make sure regret ever born people live houses greedy old world afraid would run supplies event apocalypse seek stock supplies post-apocalyptic world much possible you’re lucky they’ll kill right away dry meat haven’t good meal cut limb limb make sure keep alive there’s left eat 10 use gas mask first thing ever venturing outside wear gas mask radioactive fallout particles air inhaled burn nose throat lungs inside slowly throat starts scratch sensation exacerbates mild burning breathing coughing means inhaled toxins get worse bullet head would mercy 11 fully cover head toe sleeping years exposure radiation chemicals rendered many insects stronger make mutate mosquito bites carry far malaria happen stung remove part body immediately don’t days you’ll start feel tingling sensation part stung soon entire part body go numb upon touching may feel soft rubbery like plush toy tingling spread across entire body best thing kill quickly possible mosquito sting inserted egg hatched reproduced eating muscles bones tissue inside remains skin 12 think won’t make always go quick death wasteland ruthless kill many ways none quick pleasant find hungry thirsty wounded infected anything else would otherwise result death bullets left simply go outside broad daylight make much noise even though find regardless whether you’re quiet you’ll dead even realized happened [ safety success ](https://wwwfacebookcom/authorborisbacic/)'"
      ]
     },
     "execution_count": 77,
     "metadata": {},
     "output_type": "execute_result"
    }
   ],
   "source": [
    "test = story_df['processed'][2]\n",
    "test = test.replace('\\n',' ')\n",
    "test = test.replace('*', ' ')\n",
    "test = test.split()\n",
    "test = [word for word in test if word not in stopwords.words('english')]\n",
    "final = ' '.join(test)\n",
    "final"
   ]
  },
  {
   "cell_type": "code",
   "execution_count": 78,
   "metadata": {},
   "outputs": [
    {
     "data": {
      "text/html": [
       "<div>\n",
       "<style scoped>\n",
       "    .dataframe tbody tr th:only-of-type {\n",
       "        vertical-align: middle;\n",
       "    }\n",
       "\n",
       "    .dataframe tbody tr th {\n",
       "        vertical-align: top;\n",
       "    }\n",
       "\n",
       "    .dataframe thead th {\n",
       "        text-align: right;\n",
       "    }\n",
       "</style>\n",
       "<table border=\"1\" class=\"dataframe\">\n",
       "  <thead>\n",
       "    <tr style=\"text-align: right;\">\n",
       "      <th></th>\n",
       "      <th>story_id</th>\n",
       "      <th>title</th>\n",
       "      <th>author</th>\n",
       "      <th>body</th>\n",
       "      <th>processed</th>\n",
       "    </tr>\n",
       "  </thead>\n",
       "  <tbody>\n",
       "    <tr>\n",
       "      <th>2</th>\n",
       "      <td>flz2nh</td>\n",
       "      <td>How to survive the apocalypse</td>\n",
       "      <td>rikndikndakn123</td>\n",
       "      <td>With virus outbreaks, global warming, nuclear ...</td>\n",
       "      <td>virus outbreaks global warming nuclear weapons...</td>\n",
       "    </tr>\n",
       "    <tr>\n",
       "      <th>3</th>\n",
       "      <td>flozq1</td>\n",
       "      <td>Whatever you do, don't ever look at the gap be...</td>\n",
       "      <td>not_neccesarily</td>\n",
       "      <td>I was taking the train back home when I first ...</td>\n",
       "      <td>taking train back home first saw walked train ...</td>\n",
       "    </tr>\n",
       "    <tr>\n",
       "      <th>4</th>\n",
       "      <td>flvy6s</td>\n",
       "      <td>I’ve been trapped inside an Empty Prison for t...</td>\n",
       "      <td>Colourblindness</td>\n",
       "      <td>[Part 1](https://www.reddit.com/r/nosleep/comm...</td>\n",
       "      <td>[part 1](https://wwwredditcom/r/nosleep/commen...</td>\n",
       "    </tr>\n",
       "    <tr>\n",
       "      <th>5</th>\n",
       "      <td>fly9ld</td>\n",
       "      <td>The Wolf at the Door</td>\n",
       "      <td>Verastahl</td>\n",
       "      <td>\\n\\nThe door opened to a smiling, middle-aged ...</td>\n",
       "      <td>door opened smiling middle-aged woman introduc...</td>\n",
       "    </tr>\n",
       "    <tr>\n",
       "      <th>6</th>\n",
       "      <td>fm014m</td>\n",
       "      <td>I work for Styx Taxis, I drive souls to the af...</td>\n",
       "      <td>midniteauth0r</td>\n",
       "      <td>Do something for me, will ya? I want you to t...</td>\n",
       "      <td>something ya want think back kid think back in...</td>\n",
       "    </tr>\n",
       "  </tbody>\n",
       "</table>\n",
       "</div>"
      ],
      "text/plain": [
       "  story_id                                              title  \\\n",
       "2   flz2nh                      How to survive the apocalypse   \n",
       "3   flozq1  Whatever you do, don't ever look at the gap be...   \n",
       "4   flvy6s  I’ve been trapped inside an Empty Prison for t...   \n",
       "5   fly9ld                               The Wolf at the Door   \n",
       "6   fm014m  I work for Styx Taxis, I drive souls to the af...   \n",
       "\n",
       "            author                                               body  \\\n",
       "2  rikndikndakn123  With virus outbreaks, global warming, nuclear ...   \n",
       "3  not_neccesarily  I was taking the train back home when I first ...   \n",
       "4  Colourblindness  [Part 1](https://www.reddit.com/r/nosleep/comm...   \n",
       "5        Verastahl  \\n\\nThe door opened to a smiling, middle-aged ...   \n",
       "6    midniteauth0r   Do something for me, will ya? I want you to t...   \n",
       "\n",
       "                                           processed  \n",
       "2  virus outbreaks global warming nuclear weapons...  \n",
       "3  taking train back home first saw walked train ...  \n",
       "4  [part 1](https://wwwredditcom/r/nosleep/commen...  \n",
       "5  door opened smiling middle-aged woman introduc...  \n",
       "6  something ya want think back kid think back in...  "
      ]
     },
     "execution_count": 78,
     "metadata": {},
     "output_type": "execute_result"
    }
   ],
   "source": [
    "# remove stop words\n",
    "for index,row in story_df.iterrows():\n",
    "    story = row['processed']\n",
    "    story = story.replace('\\n',' ')\n",
    "    story = story.replace('*', ' ')\n",
    "    story = story.split()\n",
    "    story = [word for word in story if word not in stopwords.words('english')]\n",
    "    final = ' '.join(story)\n",
    "    story_df.at[index,'processed'] = final\n",
    "    \n",
    "story_df.head()"
   ]
  },
  {
   "cell_type": "code",
   "execution_count": 90,
   "metadata": {},
   "outputs": [
    {
     "data": {
      "text/plain": [
       "(98, 20000)"
      ]
     },
     "execution_count": 90,
     "metadata": {},
     "output_type": "execute_result"
    }
   ],
   "source": [
    "# Make a TF-IDF\n",
    "vectorizer = TfidfVectorizer(stop_words=stopwords.words('english'),max_features=20000, max_df = 0.5, use_idf = True, ngram_range=(1,3))\n",
    "X = vectorizer.fit_transform(story_df['processed'])\n",
    "X.shape"
   ]
  },
  {
   "cell_type": "code",
   "execution_count": 91,
   "metadata": {},
   "outputs": [],
   "source": [
    "terms = vectorizer.get_feature_names()"
   ]
  },
  {
   "cell_type": "code",
   "execution_count": 93,
   "metadata": {},
   "outputs": [
    {
     "name": "stdout",
     "output_type": "stream",
     "text": [
      "Concept 0: \n",
      "house\n",
      "mother\n",
      "mom\n",
      "dad\n",
      "began\n",
      "family\n",
      "remember\n",
      "father\n",
      "hand\n",
      "say\n",
      " \n",
      "Concept 1: \n",
      "mother\n",
      "ashlee\n",
      "dad\n",
      "mum\n",
      "sister\n",
      "remember\n",
      "father\n",
      "photo\n",
      "family\n",
      "photos\n",
      " \n",
      "Concept 2: \n",
      "mother\n",
      "forest\n",
      "father\n",
      "randy\n",
      "fire\n",
      "house\n",
      "woods\n",
      "cabin\n",
      "family\n",
      "remember\n",
      " \n",
      "Concept 3: \n",
      "mom\n",
      "astronaut\n",
      "sally\n",
      "louis\n",
      "closet\n",
      "doll\n",
      "cones\n",
      "school\n",
      "jagged\n",
      "suit\n",
      " \n",
      "Concept 4: \n",
      "ashlee\n",
      "mum\n",
      "photo\n",
      "photos\n",
      "sister\n",
      "forest\n",
      "water\n",
      "fire\n",
      "randy\n",
      "x200b\n",
      " \n"
     ]
    }
   ],
   "source": [
    "U, Sigma, VT = randomized_svd(X, n_components=5, n_iter=100,\n",
    "                              random_state=0)\n",
    "#printing the concepts\n",
    "for i, comp in enumerate(VT):\n",
    "        terms_comp = zip(terms, comp)\n",
    "        sorted_terms = sorted(terms_comp, key= lambda x:x[1], reverse=True)[:10]\n",
    "        print(\"Concept \"+str(i)+\": \")\n",
    "        for t in sorted_terms:\n",
    "            print(t[0])\n",
    "        print(\" \")"
   ]
  },
  {
   "cell_type": "code",
   "execution_count": 87,
   "metadata": {},
   "outputs": [],
   "source": [
    "scores = []\n",
    "for i in range(2,50):\n",
    "    km = KMeans(n_clusters=i).fit(X)\n",
    "    labels = km.labels_\n",
    "    score = silhouette_score(X, labels, metric='cosine')\n",
    "    scores.append(score)"
   ]
  },
  {
   "cell_type": "code",
   "execution_count": 88,
   "metadata": {},
   "outputs": [
    {
     "data": {
      "image/png": "[encoded data removed]",
      "text/plain": [
       "<Figure size 432x288 with 1 Axes>"
      ]
     },
     "metadata": {},
     "output_type": "display_data"
    }
   ],
   "source": [
    "plt.plot(range(2,50),scores)\n",
    "plt.show()"
   ]
  },
  {
   "cell_type": "markdown",
   "metadata": {},
   "source": [
    "# Comment Analysis"
   ]
  },
  {
   "cell_type": "code",
   "execution_count": 85,
   "metadata": {},
   "outputs": [
    {
     "name": "stdout",
     "output_type": "stream",
     "text": [
      "My long-distance girlfriend wanted to videocall me, and I think I may have to accept my death\n",
      "     \n",
      "It looks like there may be more to this story. Click [here](https://www.reddit.com/message/compose/?to=UpdateMeBot&subject=Subscribe&message=SubscribeMe%21%20%2Fr%2Fnosleep%20%2Fu%2FNaito-desu) to get a reminder to check back later. Got issues? Click [here](https://www.reddit.com/r/nosleep/wiki/nosleepautobot).\n",
      "NoSleepAutoBot\n",
      "None\n",
      "-------\n",
      "The flower forget-me-not symbolizes true love... maybe it’s a sign that you and ur gf are the real deal\n",
      "yungmandy\n",
      "None\n",
      "-------\n",
      "Good story\n",
      "Trimonu\n",
      "None\n",
      "-------\n"
     ]
    }
   ],
   "source": [
    "my_subreddit = subreddit.new(limit=1)\n",
    "for submission in my_subreddit:\n",
    "    print(submission.title)\n",
    "    print('     ')\n",
    "    all_comments = submission.comments.list()\n",
    "    for comment in all_comments:\n",
    "        #print(vars(comment))\n",
    "        print(comment.body)\n",
    "        print(comment.author)\n",
    "        print(comment.likes)\n",
    "        print('-------')"
   ]
  },
  {
   "cell_type": "code",
   "execution_count": null,
   "metadata": {},
   "outputs": [],
   "source": []
  },
  {
   "cell_type": "markdown",
   "metadata": {},
   "source": [
    "# Appendix"
   ]
  },
  {
   "cell_type": "code",
   "execution_count": 85,
   "metadata": {},
   "outputs": [
    {
     "name": "stdout",
     "output_type": "stream",
     "text": [
      "My long-distance girlfriend wanted to videocall me, and I think I may have to accept my death\n",
      "     \n",
      "It looks like there may be more to this story. Click [here](https://www.reddit.com/message/compose/?to=UpdateMeBot&subject=Subscribe&message=SubscribeMe%21%20%2Fr%2Fnosleep%20%2Fu%2FNaito-desu) to get a reminder to check back later. Got issues? Click [here](https://www.reddit.com/r/nosleep/wiki/nosleepautobot).\n",
      "NoSleepAutoBot\n",
      "None\n",
      "-------\n",
      "The flower forget-me-not symbolizes true love... maybe it’s a sign that you and ur gf are the real deal\n",
      "yungmandy\n",
      "None\n",
      "-------\n",
      "Good story\n",
      "Trimonu\n",
      "None\n",
      "-------\n"
     ]
    }
   ],
   "source": [
    "my_subreddit = subreddit.new(limit=1)\n",
    "for submission in my_subreddit:\n",
    "    print(submission.title)\n",
    "    print('     ')\n",
    "    all_comments = submission.comments.list()\n",
    "    for comment in all_comments:\n",
    "        #print(vars(comment))\n",
    "        print(comment.body)\n",
    "        print(comment.author)\n",
    "        print(comment.likes)\n",
    "        print('-------')"
   ]
  },
  {
   "cell_type": "code",
   "execution_count": null,
   "metadata": {},
   "outputs": [],
   "source": []
  }
 ],
 "metadata": {
  "kernelspec": {
   "display_name": "Python 3",
   "language": "python",
   "name": "python3"
  },
  "language_info": {
   "codemirror_mode": {
    "name": "ipython",
    "version": 3
   },
   "file_extension": ".py",
   "mimetype": "text/x-python",
   "name": "python",
   "nbconvert_exporter": "python",
   "pygments_lexer": "ipython3",
   "version": "3.6.5"
  }
 },
 "nbformat": 4,
 "nbformat_minor": 2
}
