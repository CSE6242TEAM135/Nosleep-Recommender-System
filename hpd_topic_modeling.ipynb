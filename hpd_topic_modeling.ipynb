{
 "cells": [
  {
   "cell_type": "code",
   "execution_count": 78,
   "metadata": {},
   "outputs": [
    {
     "name": "stdout",
     "output_type": "stream",
     "text": [
      "[nltk_data] Downloading package stopwords to\n",
      "[nltk_data]     /Users/jakob.barke/nltk_data...\n",
      "[nltk_data]   Package stopwords is already up-to-date!\n",
      "[nltk_data] Downloading package names to\n",
      "[nltk_data]     /Users/jakob.barke/nltk_data...\n",
      "[nltk_data]   Package names is already up-to-date!\n",
      "[nltk_data] Downloading package punkt to\n",
      "[nltk_data]     /Users/jakob.barke/nltk_data...\n",
      "[nltk_data]   Package punkt is already up-to-date!\n",
      "[nltk_data] Downloading package averaged_perceptron_tagger to\n",
      "[nltk_data]     /Users/jakob.barke/nltk_data...\n",
      "[nltk_data]   Package averaged_perceptron_tagger is already up-to-\n",
      "[nltk_data]       date!\n",
      "[nltk_data] Downloading package wordnet to\n",
      "[nltk_data]     /Users/jakob.barke/nltk_data...\n",
      "[nltk_data]   Package wordnet is already up-to-date!\n"
     ]
    }
   ],
   "source": [
    "import pandas as pd\n",
    "import numpy as np\n",
    "import datetime\n",
    "import praw\n",
    "from collections import Counter\n",
    "import string\n",
    "from operator import itemgetter\n",
    "\n",
    "import requests\n",
    "import requests.auth\n",
    "import pandas as pd\n",
    "import time\n",
    "import json\n",
    "import time\n",
    "import boto3\n",
    "import ast\n",
    "\n",
    "import re\n",
    "\n",
    "import nltk\n",
    "nltk.download('stopwords')\n",
    "nltk.download('names')\n",
    "nltk.download('punkt')\n",
    "nltk.download('averaged_perceptron_tagger')\n",
    "nltk.download('wordnet')\n",
    "from nltk.corpus import stopwords\n",
    "from nltk.corpus import names\n",
    "from nltk.tokenize import word_tokenize\n",
    "from nltk.stem import WordNetLemmatizer\n",
    "from nltk.corpus import wordnet\n",
    "from nltk.stem import PorterStemmer \n",
    "\n",
    "from sklearn.decomposition import LatentDirichletAllocation as LDA\n",
    "from sklearn.feature_extraction.text import TfidfVectorizer\n",
    "from sklearn.feature_extraction.text import CountVectorizer\n",
    "from sklearn.decomposition import NMF\n",
    "from sklearn.model_selection import train_test_split\n",
    "\n",
    "from sklearn.utils.extmath import randomized_svd\n",
    "from sklearn.cluster import KMeans\n",
    "\n",
    "from sklearn.metrics import silhouette_score\n",
    "\n",
    "import matplotlib.pyplot as plt\n",
    "\n",
    "import gensim\n",
    "import gensim.corpora as corpora\n",
    "from gensim.models import HdpModel\n",
    "from gensim.utils import lemmatize\n",
    "\n",
    "import warnings\n",
    "warnings.filterwarnings(\"ignore\")"
   ]
  },
  {
   "cell_type": "markdown",
   "metadata": {},
   "source": [
    "# Reading in the data"
   ]
  },
  {
   "cell_type": "markdown",
   "metadata": {},
   "source": [
    "Note on below: I downloaded the data.txt file from the S3 bucket using the credentials that Sanjeev emailed out. I saved the data.txt file in a different folder, not the one that this notebook is in. I don't want to be pushing and pulling 47k stories to github.\n",
    "\n",
    "Also, if Jupyter notebook gives you some rate limit issue opening the file in here (it did for me), you can fix that by following the directions in this link: https://stackoverflow.com/questions/43288550/iopub-data-rate-exceeded-in-jupyter-notebook-when-viewing-image"
   ]
  },
  {
   "cell_type": "code",
   "execution_count": 2,
   "metadata": {},
   "outputs": [],
   "source": [
    "d = {\"author\": [], \"author_fullname\": [], \"full_link\": [], \"id\": [], \"score\": [], \"selftext\": [], \"title\": [], \"sortKey\": []}\n",
    "with open(\"../nosleep-data/data.txt\") as f:\n",
    "        for line in f:\n",
    "            line = ast.literal_eval(line)\n",
    "            d[\"author\"].append(line[\"author\"])\n",
    "            d[\"author_fullname\"].append(line[\"author_fullname\"])\n",
    "            d[\"full_link\"].append(line[\"full_link\"])\n",
    "            d[\"id\"].append(line[\"id\"])\n",
    "            d[\"score\"].append(line[\"score\"])\n",
    "            d[\"selftext\"].append(line[\"selftext\"])\n",
    "            d[\"title\"].append(line[\"title\"])\n",
    "            d[\"sortKey\"].append(line[\"sortKey\"])"
   ]
  },
  {
   "cell_type": "code",
   "execution_count": 3,
   "metadata": {},
   "outputs": [
    {
     "data": {
      "text/html": [
       "<div>\n",
       "<style scoped>\n",
       "    .dataframe tbody tr th:only-of-type {\n",
       "        vertical-align: middle;\n",
       "    }\n",
       "\n",
       "    .dataframe tbody tr th {\n",
       "        vertical-align: top;\n",
       "    }\n",
       "\n",
       "    .dataframe thead th {\n",
       "        text-align: right;\n",
       "    }\n",
       "</style>\n",
       "<table border=\"1\" class=\"dataframe\">\n",
       "  <thead>\n",
       "    <tr style=\"text-align: right;\">\n",
       "      <th></th>\n",
       "      <th>author</th>\n",
       "      <th>author_fullname</th>\n",
       "      <th>full_link</th>\n",
       "      <th>id</th>\n",
       "      <th>score</th>\n",
       "      <th>selftext</th>\n",
       "      <th>title</th>\n",
       "      <th>sortKey</th>\n",
       "    </tr>\n",
       "  </thead>\n",
       "  <tbody>\n",
       "    <tr>\n",
       "      <th>0</th>\n",
       "      <td>GloriousWilliam666</td>\n",
       "      <td>t2_2uxklusg</td>\n",
       "      <td>https://www.reddit.com/r/nosleep/comments/abf5...</td>\n",
       "      <td>abf59b</td>\n",
       "      <td>1</td>\n",
       "      <td>It was 10:30 of new years night. I was sitting...</td>\n",
       "      <td>New Year's Demon</td>\n",
       "      <td>1546491600</td>\n",
       "    </tr>\n",
       "    <tr>\n",
       "      <th>1</th>\n",
       "      <td>Offic3r_Friendly</td>\n",
       "      <td>t2_2ukwz8im</td>\n",
       "      <td>https://www.reddit.com/r/nosleep/comments/abf8...</td>\n",
       "      <td>abf8by</td>\n",
       "      <td>1</td>\n",
       "      <td>\\n\\nI've worked in security for approximately...</td>\n",
       "      <td>It lives underneath the Campus</td>\n",
       "      <td>1546491600</td>\n",
       "    </tr>\n",
       "    <tr>\n",
       "      <th>2</th>\n",
       "      <td>iamanovelty</td>\n",
       "      <td>t2_h4aqm</td>\n",
       "      <td>https://www.reddit.com/r/nosleep/comments/abfa...</td>\n",
       "      <td>abfav7</td>\n",
       "      <td>1</td>\n",
       "      <td>I decided to start pet-sitting again.\\n\\nThis ...</td>\n",
       "      <td>Someone Swapped My Chinchillas and I Don't Kno...</td>\n",
       "      <td>1546491600</td>\n",
       "    </tr>\n",
       "    <tr>\n",
       "      <th>3</th>\n",
       "      <td>John_Drinks</td>\n",
       "      <td>t2_2vo97ouc</td>\n",
       "      <td>https://www.reddit.com/r/nosleep/comments/abfb...</td>\n",
       "      <td>abfbj9</td>\n",
       "      <td>1</td>\n",
       "      <td>\\n\\nSince the passing of my wife, I have bee...</td>\n",
       "      <td>An Appalachian Horror Story. Chapter One.</td>\n",
       "      <td>1546491600</td>\n",
       "    </tr>\n",
       "    <tr>\n",
       "      <th>4</th>\n",
       "      <td>claire_e_albers</td>\n",
       "      <td>t2_2k4wz7bm</td>\n",
       "      <td>https://www.reddit.com/r/nosleep/comments/abfk...</td>\n",
       "      <td>abfk8f</td>\n",
       "      <td>1</td>\n",
       "      <td>The women howled with laughter as they finishe...</td>\n",
       "      <td>Eyes On the Road</td>\n",
       "      <td>1546491600</td>\n",
       "    </tr>\n",
       "  </tbody>\n",
       "</table>\n",
       "</div>"
      ],
      "text/plain": [
       "               author author_fullname  \\\n",
       "0  GloriousWilliam666     t2_2uxklusg   \n",
       "1    Offic3r_Friendly     t2_2ukwz8im   \n",
       "2         iamanovelty        t2_h4aqm   \n",
       "3         John_Drinks     t2_2vo97ouc   \n",
       "4     claire_e_albers     t2_2k4wz7bm   \n",
       "\n",
       "                                           full_link      id  score  \\\n",
       "0  https://www.reddit.com/r/nosleep/comments/abf5...  abf59b      1   \n",
       "1  https://www.reddit.com/r/nosleep/comments/abf8...  abf8by      1   \n",
       "2  https://www.reddit.com/r/nosleep/comments/abfa...  abfav7      1   \n",
       "3  https://www.reddit.com/r/nosleep/comments/abfb...  abfbj9      1   \n",
       "4  https://www.reddit.com/r/nosleep/comments/abfk...  abfk8f      1   \n",
       "\n",
       "                                            selftext  \\\n",
       "0  It was 10:30 of new years night. I was sitting...   \n",
       "1   \\n\\nI've worked in security for approximately...   \n",
       "2  I decided to start pet-sitting again.\\n\\nThis ...   \n",
       "3    \\n\\nSince the passing of my wife, I have bee...   \n",
       "4  The women howled with laughter as they finishe...   \n",
       "\n",
       "                                               title     sortKey  \n",
       "0                                   New Year's Demon  1546491600  \n",
       "1                     It lives underneath the Campus  1546491600  \n",
       "2  Someone Swapped My Chinchillas and I Don't Kno...  1546491600  \n",
       "3          An Appalachian Horror Story. Chapter One.  1546491600  \n",
       "4                                   Eyes On the Road  1546491600  "
      ]
     },
     "execution_count": 3,
     "metadata": {},
     "output_type": "execute_result"
    }
   ],
   "source": [
    "story_df = pd.DataFrame(data=d)\n",
    "story_df.head()"
   ]
  },
  {
   "cell_type": "code",
   "execution_count": 4,
   "metadata": {},
   "outputs": [
    {
     "data": {
      "text/plain": [
       "(47125, 8)"
      ]
     },
     "execution_count": 4,
     "metadata": {},
     "output_type": "execute_result"
    }
   ],
   "source": [
    "story_df.shape"
   ]
  },
  {
   "cell_type": "code",
   "execution_count": 5,
   "metadata": {},
   "outputs": [
    {
     "data": {
      "text/html": [
       "<div>\n",
       "<style scoped>\n",
       "    .dataframe tbody tr th:only-of-type {\n",
       "        vertical-align: middle;\n",
       "    }\n",
       "\n",
       "    .dataframe tbody tr th {\n",
       "        vertical-align: top;\n",
       "    }\n",
       "\n",
       "    .dataframe thead th {\n",
       "        text-align: right;\n",
       "    }\n",
       "</style>\n",
       "<table border=\"1\" class=\"dataframe\">\n",
       "  <thead>\n",
       "    <tr style=\"text-align: right;\">\n",
       "      <th></th>\n",
       "      <th>author</th>\n",
       "      <th>selftext</th>\n",
       "      <th>title</th>\n",
       "    </tr>\n",
       "  </thead>\n",
       "  <tbody>\n",
       "    <tr>\n",
       "      <th>0</th>\n",
       "      <td>GloriousWilliam666</td>\n",
       "      <td>It was 10:30 of new years night. I was sitting...</td>\n",
       "      <td>New Year's Demon</td>\n",
       "    </tr>\n",
       "    <tr>\n",
       "      <th>1</th>\n",
       "      <td>Offic3r_Friendly</td>\n",
       "      <td>\\n\\nI've worked in security for approximately...</td>\n",
       "      <td>It lives underneath the Campus</td>\n",
       "    </tr>\n",
       "    <tr>\n",
       "      <th>2</th>\n",
       "      <td>iamanovelty</td>\n",
       "      <td>I decided to start pet-sitting again.\\n\\nThis ...</td>\n",
       "      <td>Someone Swapped My Chinchillas and I Don't Kno...</td>\n",
       "    </tr>\n",
       "    <tr>\n",
       "      <th>3</th>\n",
       "      <td>John_Drinks</td>\n",
       "      <td>\\n\\nSince the passing of my wife, I have bee...</td>\n",
       "      <td>An Appalachian Horror Story. Chapter One.</td>\n",
       "    </tr>\n",
       "    <tr>\n",
       "      <th>4</th>\n",
       "      <td>claire_e_albers</td>\n",
       "      <td>The women howled with laughter as they finishe...</td>\n",
       "      <td>Eyes On the Road</td>\n",
       "    </tr>\n",
       "  </tbody>\n",
       "</table>\n",
       "</div>"
      ],
      "text/plain": [
       "               author                                           selftext  \\\n",
       "0  GloriousWilliam666  It was 10:30 of new years night. I was sitting...   \n",
       "1    Offic3r_Friendly   \\n\\nI've worked in security for approximately...   \n",
       "2         iamanovelty  I decided to start pet-sitting again.\\n\\nThis ...   \n",
       "3         John_Drinks    \\n\\nSince the passing of my wife, I have bee...   \n",
       "4     claire_e_albers  The women howled with laughter as they finishe...   \n",
       "\n",
       "                                               title  \n",
       "0                                   New Year's Demon  \n",
       "1                     It lives underneath the Campus  \n",
       "2  Someone Swapped My Chinchillas and I Don't Kno...  \n",
       "3          An Appalachian Horror Story. Chapter One.  \n",
       "4                                   Eyes On the Road  "
      ]
     },
     "execution_count": 5,
     "metadata": {},
     "output_type": "execute_result"
    }
   ],
   "source": [
    "story_df = story_df.drop(columns = ['author_fullname','full_link','id','score','sortKey'])\n",
    "story_df.head()"
   ]
  },
  {
   "cell_type": "code",
   "execution_count": 8,
   "metadata": {},
   "outputs": [],
   "source": [
    "x_train, x_test = train_test_split(story_df, test_size=0.15, random_state=42)"
   ]
  },
  {
   "cell_type": "code",
   "execution_count": 9,
   "metadata": {},
   "outputs": [
    {
     "data": {
      "text/plain": [
       "(40056, 3)"
      ]
     },
     "execution_count": 9,
     "metadata": {},
     "output_type": "execute_result"
    }
   ],
   "source": [
    "x_train.shape"
   ]
  },
  {
   "cell_type": "markdown",
   "metadata": {},
   "source": [
    "# Data Cleaning"
   ]
  },
  {
   "cell_type": "code",
   "execution_count": 39,
   "metadata": {},
   "outputs": [],
   "source": [
    "def preprocess(df,col):\n",
    "    print(\"Removing punctuation\")\n",
    "    df['processed'] = df[col].map(lambda x: x.translate(str.maketrans('', '', string.punctuation)))\n",
    "    \n",
    "    print(\"Making all lower case\")\n",
    "    df['processed'] = df['processed'].map(lambda x: x.lower())\n",
    "    \n",
    "    print(\"Removing stop words and names\")\n",
    "    combined_stops = names.words('male.txt')\n",
    "    combined_stops.extend(stopwords.words('english'))\n",
    "    combined_stops.extend(names.words('female.txt'))\n",
    "    combined_stops = set(combined_stops)\n",
    "    df['processed'] = df['processed'].map(lambda x: ' '.join(y for y in x.split() if y not in combined_stops))\n",
    "    \n",
    "    print(\"Stemming\")\n",
    "    stemmer = PorterStemmer() \n",
    "    df['processed'] = df['processed'].map(lambda x: [stemmer.stem(y) for y in x.split()])\n",
    "    \n",
    "    print(\"Removing numbers\")\n",
    "    df['processed'] = df['processed'].map(lambda x: [item for item in x if not item.isdigit()])\n",
    "    \n",
    "    print(\"putting processed text back together\")\n",
    "    df['processed_text'] = df['processed'].map(lambda x: \" \".join(x))\n",
    "    \n",
    "    return df"
   ]
  },
  {
   "cell_type": "code",
   "execution_count": 40,
   "metadata": {},
   "outputs": [
    {
     "name": "stdout",
     "output_type": "stream",
     "text": [
      "Removing punctuation\n",
      "Making all lower case\n",
      "Removing stop words and names\n",
      "Stemming\n",
      "Removing numbers\n",
      "putting processed text back together\n"
     ]
    }
   ],
   "source": [
    "x_train = preprocess(x_train, 'selftext')"
   ]
  },
  {
   "cell_type": "code",
   "execution_count": 41,
   "metadata": {},
   "outputs": [
    {
     "data": {
      "text/html": [
       "<div>\n",
       "<style scoped>\n",
       "    .dataframe tbody tr th:only-of-type {\n",
       "        vertical-align: middle;\n",
       "    }\n",
       "\n",
       "    .dataframe tbody tr th {\n",
       "        vertical-align: top;\n",
       "    }\n",
       "\n",
       "    .dataframe thead th {\n",
       "        text-align: right;\n",
       "    }\n",
       "</style>\n",
       "<table border=\"1\" class=\"dataframe\">\n",
       "  <thead>\n",
       "    <tr style=\"text-align: right;\">\n",
       "      <th></th>\n",
       "      <th>author</th>\n",
       "      <th>selftext</th>\n",
       "      <th>title</th>\n",
       "      <th>processed</th>\n",
       "      <th>processed_text</th>\n",
       "    </tr>\n",
       "  </thead>\n",
       "  <tbody>\n",
       "    <tr>\n",
       "      <th>35269</th>\n",
       "      <td>Ocs1s</td>\n",
       "      <td>\\n\\n\\n\\n##Part 1\\n###May 22, 1884\\n\\n       Au...</td>\n",
       "      <td>Epshot</td>\n",
       "      <td>[part, may, austel, start, day, like, day, wak...</td>\n",
       "      <td>part may austel start day like day wake cornhu...</td>\n",
       "    </tr>\n",
       "    <tr>\n",
       "      <th>1295</th>\n",
       "      <td>Chezecaek</td>\n",
       "      <td>\\n\\nI am so scared of the shower. So scared o...</td>\n",
       "      <td>I am so scared of the shower.</td>\n",
       "      <td>[scare, shower, scare, nozzl, protrud, wall, l...</td>\n",
       "      <td>scare shower scare nozzl protrud wall like sna...</td>\n",
       "    </tr>\n",
       "    <tr>\n",
       "      <th>30385</th>\n",
       "      <td>3dAyRi0T</td>\n",
       "      <td>\\n   It’s never fun to lose your wallet. No on...</td>\n",
       "      <td>Found a missing wallet</td>\n",
       "      <td>[it’, never, fun, lose, wallet, one, like, go,...</td>\n",
       "      <td>it’ never fun lose wallet one like go trough p...</td>\n",
       "    </tr>\n",
       "    <tr>\n",
       "      <th>2649</th>\n",
       "      <td>raginnate2003</td>\n",
       "      <td>In the day time, people know me as a happy go ...</td>\n",
       "      <td>My Sleep Paralysis Experience</td>\n",
       "      <td>[day, time, peopl, know, happi, go, lucki, tee...</td>\n",
       "      <td>day time peopl know happi go lucki teenag alwa...</td>\n",
       "    </tr>\n",
       "    <tr>\n",
       "      <th>19815</th>\n",
       "      <td>Ninozachette</td>\n",
       "      <td>I was ten when I first developed nyctophobia -...</td>\n",
       "      <td>SUFFERING FROM NYCTOPHOBIA</td>\n",
       "      <td>[ten, first, develop, nyctophobia, fear, dark,...</td>\n",
       "      <td>ten first develop nyctophobia fear dark relian...</td>\n",
       "    </tr>\n",
       "  </tbody>\n",
       "</table>\n",
       "</div>"
      ],
      "text/plain": [
       "              author                                           selftext  \\\n",
       "35269          Ocs1s  \\n\\n\\n\\n##Part 1\\n###May 22, 1884\\n\\n       Au...   \n",
       "1295       Chezecaek   \\n\\nI am so scared of the shower. So scared o...   \n",
       "30385       3dAyRi0T  \\n   It’s never fun to lose your wallet. No on...   \n",
       "2649   raginnate2003  In the day time, people know me as a happy go ...   \n",
       "19815   Ninozachette  I was ten when I first developed nyctophobia -...   \n",
       "\n",
       "                               title  \\\n",
       "35269                         Epshot   \n",
       "1295   I am so scared of the shower.   \n",
       "30385         Found a missing wallet   \n",
       "2649   My Sleep Paralysis Experience   \n",
       "19815     SUFFERING FROM NYCTOPHOBIA   \n",
       "\n",
       "                                               processed  \\\n",
       "35269  [part, may, austel, start, day, like, day, wak...   \n",
       "1295   [scare, shower, scare, nozzl, protrud, wall, l...   \n",
       "30385  [it’, never, fun, lose, wallet, one, like, go,...   \n",
       "2649   [day, time, peopl, know, happi, go, lucki, tee...   \n",
       "19815  [ten, first, develop, nyctophobia, fear, dark,...   \n",
       "\n",
       "                                          processed_text  \n",
       "35269  part may austel start day like day wake cornhu...  \n",
       "1295   scare shower scare nozzl protrud wall like sna...  \n",
       "30385  it’ never fun lose wallet one like go trough p...  \n",
       "2649   day time peopl know happi go lucki teenag alwa...  \n",
       "19815  ten first develop nyctophobia fear dark relian...  "
      ]
     },
     "execution_count": 41,
     "metadata": {},
     "output_type": "execute_result"
    }
   ],
   "source": [
    "x_train.head()"
   ]
  },
  {
   "cell_type": "code",
   "execution_count": 42,
   "metadata": {},
   "outputs": [
    {
     "data": {
      "text/plain": [
       "(40056, 5)"
      ]
     },
     "execution_count": 42,
     "metadata": {},
     "output_type": "execute_result"
    }
   ],
   "source": [
    "x_train.shape"
   ]
  },
  {
   "cell_type": "markdown",
   "metadata": {},
   "source": [
    "# Trying HDP-LDA using the Gensim library"
   ]
  },
  {
   "cell_type": "code",
   "execution_count": 133,
   "metadata": {},
   "outputs": [],
   "source": [
    "# Create Dictionary\n",
    "id2word = corpora.Dictionary(x_train['processed'])\n",
    "\n",
    "# Create Corpus\n",
    "texts = x_train['processed']\n",
    "\n",
    "# Term Document Frequency\n",
    "corpus = [id2word.doc2bow(text) for text in texts]"
   ]
  },
  {
   "cell_type": "code",
   "execution_count": 17,
   "metadata": {},
   "outputs": [],
   "source": [
    "hdpmodel = HdpModel(corpus=corpus, id2word=id2word)"
   ]
  },
  {
   "cell_type": "code",
   "execution_count": 18,
   "metadata": {},
   "outputs": [],
   "source": [
    "hdptopics = hdpmodel.show_topics(formatted=False)"
   ]
  },
  {
   "cell_type": "code",
   "execution_count": 19,
   "metadata": {},
   "outputs": [],
   "source": [
    "def topic_prob_extractor(gensim_hdp, t=-1, w=25, isSorted=True):\n",
    "    \"\"\"\n",
    "    Input the gensim model to get the rough topics' probabilities\n",
    "    \"\"\"\n",
    "    shown_topics = gensim_hdp.show_topics(num_topics=t, num_words=w ,formatted=False)\n",
    "    topics_nos = [x[0] for x in shown_topics ]\n",
    "    weights = [ sum([item[1] for item in shown_topics[topicN][1]]) for topicN in topics_nos ]\n",
    "    if (isSorted):\n",
    "        return pd.DataFrame({'topic_id' : topics_nos, 'weight' : weights}).sort_values(by = \"weight\", ascending=False);\n",
    "    else:\n",
    "        return pd.DataFrame({'topic_id' : topics_nos, 'weight' : weights});"
   ]
  },
  {
   "cell_type": "code",
   "execution_count": 20,
   "metadata": {},
   "outputs": [
    {
     "data": {
      "text/html": [
       "<div>\n",
       "<style scoped>\n",
       "    .dataframe tbody tr th:only-of-type {\n",
       "        vertical-align: middle;\n",
       "    }\n",
       "\n",
       "    .dataframe tbody tr th {\n",
       "        vertical-align: top;\n",
       "    }\n",
       "\n",
       "    .dataframe thead th {\n",
       "        text-align: right;\n",
       "    }\n",
       "</style>\n",
       "<table border=\"1\" class=\"dataframe\">\n",
       "  <thead>\n",
       "    <tr style=\"text-align: right;\">\n",
       "      <th></th>\n",
       "      <th>topic_id</th>\n",
       "      <th>weight</th>\n",
       "    </tr>\n",
       "  </thead>\n",
       "  <tbody>\n",
       "    <tr>\n",
       "      <th>3</th>\n",
       "      <td>3</td>\n",
       "      <td>0.145455</td>\n",
       "    </tr>\n",
       "    <tr>\n",
       "      <th>1</th>\n",
       "      <td>1</td>\n",
       "      <td>0.129409</td>\n",
       "    </tr>\n",
       "    <tr>\n",
       "      <th>2</th>\n",
       "      <td>2</td>\n",
       "      <td>0.118040</td>\n",
       "    </tr>\n",
       "    <tr>\n",
       "      <th>5</th>\n",
       "      <td>5</td>\n",
       "      <td>0.115822</td>\n",
       "    </tr>\n",
       "    <tr>\n",
       "      <th>0</th>\n",
       "      <td>0</td>\n",
       "      <td>0.115646</td>\n",
       "    </tr>\n",
       "  </tbody>\n",
       "</table>\n",
       "</div>"
      ],
      "text/plain": [
       "   topic_id    weight\n",
       "3         3  0.145455\n",
       "1         1  0.129409\n",
       "2         2  0.118040\n",
       "5         5  0.115822\n",
       "0         0  0.115646"
      ]
     },
     "execution_count": 20,
     "metadata": {},
     "output_type": "execute_result"
    }
   ],
   "source": [
    "topics = topic_prob_extractor(hdpmodel)\n",
    "topics.head()"
   ]
  },
  {
   "cell_type": "code",
   "execution_count": 21,
   "metadata": {},
   "outputs": [
    {
     "data": {
      "image/png": "[encoded data removed]",
      "text/plain": [
       "<Figure size 432x288 with 1 Axes>"
      ]
     },
     "metadata": {},
     "output_type": "display_data"
    }
   ],
   "source": [
    "plt.plot(range(len(topics)),topics['weight'])\n",
    "plt.show()"
   ]
  },
  {
   "cell_type": "markdown",
   "metadata": {},
   "source": [
    "According to the above chart, we should keep 19 topics."
   ]
  },
  {
   "cell_type": "code",
   "execution_count": null,
   "metadata": {},
   "outputs": [],
   "source": [
    "# do some testing\n",
    "x_test = preprocess(x_test,'selftext')"
   ]
  },
  {
   "cell_type": "code",
   "execution_count": 134,
   "metadata": {},
   "outputs": [
    {
     "data": {
      "text/plain": [
       "-33193677.632195566"
      ]
     },
     "execution_count": 134,
     "metadata": {},
     "output_type": "execute_result"
    }
   ],
   "source": [
    "# Create Dictionary\n",
    "#id2word_test = corpora.Dictionary(x_test['processed'])\n",
    "\n",
    "# Create Corpus\n",
    "texts_test = x_test['processed']\n",
    "\n",
    "# Term Document Frequency\n",
    "corpus_test = [id2word.doc2bow(text) for text in texts_test]\n",
    "\n",
    "hdpmodel.evaluate_test_corpus(corpus_test)"
   ]
  },
  {
   "cell_type": "code",
   "execution_count": null,
   "metadata": {},
   "outputs": [],
   "source": []
  },
  {
   "cell_type": "code",
   "execution_count": 136,
   "metadata": {},
   "outputs": [],
   "source": [
    "# Including topic 0 \n",
    "test_labels = []\n",
    "for i in range(len(corpus_test)):\n",
    "    doc_hdp = hdpmodel[corpus_test[i]]\n",
    "    if doc_hdp:\n",
    "        doc_hdp = sorted(doc_hdp, key=lambda tup: tup[1], reverse=True)\n",
    "        labels = [x for x,y in doc_hdp]\n",
    "        test_labels.append(labels[0])\n",
    "    else:\n",
    "        test_labels.append(9999)"
   ]
  },
  {
   "cell_type": "code",
   "execution_count": 137,
   "metadata": {},
   "outputs": [
    {
     "data": {
      "text/plain": [
       "Counter({0: 5599,\n",
       "         1: 1349,\n",
       "         2: 78,\n",
       "         9999: 25,\n",
       "         6: 3,\n",
       "         4: 2,\n",
       "         74: 1,\n",
       "         63: 1,\n",
       "         3: 9,\n",
       "         16: 1,\n",
       "         60: 1})"
      ]
     },
     "execution_count": 137,
     "metadata": {},
     "output_type": "execute_result"
    }
   ],
   "source": [
    "Counter(test_labels)"
   ]
  },
  {
   "cell_type": "code",
   "execution_count": 141,
   "metadata": {},
   "outputs": [],
   "source": [
    "# Not including topic 0\n",
    "test_labels = []\n",
    "for i in range(len(corpus_test)):\n",
    "    doc_hdp = hdpmodel[corpus_test[i]]\n",
    "    if doc_hdp:\n",
    "        doc_hdp = sorted(doc_hdp, key=lambda tup: tup[1], reverse=True)\n",
    "        labels = [x for x,y in doc_hdp]\n",
    "        if len(labels) > 1:\n",
    "            if labels[0] == 0:\n",
    "                test_labels.append(labels[1])\n",
    "            else:\n",
    "                test_labels.append(labels[0])\n",
    "        else:\n",
    "            test_labels.append(labels[0])\n",
    "    else:\n",
    "        test_labels.append(9999)"
   ]
  },
  {
   "cell_type": "code",
   "execution_count": 143,
   "metadata": {},
   "outputs": [
    {
     "data": {
      "text/plain": [
       "Counter({0: 1637,\n",
       "         1: 4401,\n",
       "         2: 519,\n",
       "         6: 20,\n",
       "         8: 21,\n",
       "         21: 2,\n",
       "         9: 6,\n",
       "         7: 27,\n",
       "         16: 7,\n",
       "         9999: 25,\n",
       "         5: 19,\n",
       "         3: 143,\n",
       "         12: 20,\n",
       "         4: 72,\n",
       "         13: 14,\n",
       "         25: 4,\n",
       "         14: 9,\n",
       "         17: 6,\n",
       "         74: 1,\n",
       "         33: 1,\n",
       "         10: 29,\n",
       "         19: 9,\n",
       "         23: 6,\n",
       "         63: 2,\n",
       "         37: 4,\n",
       "         36: 1,\n",
       "         15: 7,\n",
       "         28: 1,\n",
       "         11: 16,\n",
       "         24: 3,\n",
       "         62: 2,\n",
       "         32: 3,\n",
       "         20: 4,\n",
       "         30: 3,\n",
       "         133: 1,\n",
       "         18: 5,\n",
       "         31: 1,\n",
       "         48: 1,\n",
       "         103: 1,\n",
       "         27: 3,\n",
       "         45: 2,\n",
       "         22: 2,\n",
       "         55: 1,\n",
       "         26: 1,\n",
       "         35: 1,\n",
       "         60: 1,\n",
       "         67: 2,\n",
       "         112: 1,\n",
       "         139: 1,\n",
       "         38: 1})"
      ]
     },
     "execution_count": 143,
     "metadata": {},
     "output_type": "execute_result"
    }
   ],
   "source": [
    "Counter(test_labels)"
   ]
  },
  {
   "cell_type": "code",
   "execution_count": 139,
   "metadata": {},
   "outputs": [],
   "source": [
    "# label all of our training data\n",
    "training_labels = []\n",
    "for i in range(len(corpus)):\n",
    "    doc_hdp = hdpmodel[corpus[i]]\n",
    "    if doc_hdp:\n",
    "        doc_hdp = sorted(doc_hdp, key=lambda tup: tup[1], reverse=True)\n",
    "        labels = [x for x,y in doc_hdp]\n",
    "        if len(labels) > 1:\n",
    "            if labels[0] == 0:\n",
    "                training_labels.append(labels[1])\n",
    "            else:\n",
    "                training_labels.append(labels[0])\n",
    "        else:\n",
    "            training_labels.append(labels[0])\n",
    "    else:\n",
    "        training_labels.append(9999)"
   ]
  },
  {
   "cell_type": "code",
   "execution_count": 115,
   "metadata": {},
   "outputs": [],
   "source": [
    "x_train[\"topic\"] = training_labels"
   ]
  },
  {
   "cell_type": "code",
   "execution_count": 145,
   "metadata": {},
   "outputs": [],
   "source": [
    "# given text story, predict its label and give a random sample of 5 similar stories\n",
    "def recommend(story_text, id2word):\n",
    "    # clean the story\n",
    "    story_text = story_text.translate(str.maketrans('', '', string.punctuation))\n",
    "    story_text = story_text.lower()\n",
    "    combined_stops = names.words('male.txt')\n",
    "    combined_stops.extend(stopwords.words('english'))\n",
    "    combined_stops.extend(names.words('female.txt'))\n",
    "    combined_stops = set(combined_stops)\n",
    "    story_text = ' '.join(y for y in story_text.split() if y not in combined_stops)\n",
    "    stemmer = PorterStemmer() \n",
    "    story_text = [stemmer.stem(y) for y in story_text.split()]\n",
    "    story_text =  [item for item in story_text if not item.isdigit()]\n",
    "    \n",
    "    #print(story_text)\n",
    "    # convert to BOW model\n",
    "    corpus = id2word.doc2bow(story_text)\n",
    "    \n",
    "    # find predicted label\n",
    "    doc_hdp = hdpmodel[corpus]\n",
    "    if doc_hdp:\n",
    "        doc_hdp = sorted(doc_hdp, key=lambda tup: tup[1], reverse=True)\n",
    "        labels = [x for x,y in doc_hdp]\n",
    "        if len(labels) > 1:\n",
    "            if labels[0] == 0:\n",
    "                topic = labels[1]\n",
    "            else:\n",
    "                topic = labels[0]\n",
    "        else:\n",
    "            topic = labels[0]\n",
    "    else:\n",
    "        topic = 9999\n",
    "        \n",
    "    # return sample of predicted stories\n",
    "    return topic\n",
    "    "
   ]
  },
  {
   "cell_type": "code",
   "execution_count": 117,
   "metadata": {},
   "outputs": [
    {
     "data": {
      "text/html": [
       "<div>\n",
       "<style scoped>\n",
       "    .dataframe tbody tr th:only-of-type {\n",
       "        vertical-align: middle;\n",
       "    }\n",
       "\n",
       "    .dataframe tbody tr th {\n",
       "        vertical-align: top;\n",
       "    }\n",
       "\n",
       "    .dataframe thead th {\n",
       "        text-align: right;\n",
       "    }\n",
       "</style>\n",
       "<table border=\"1\" class=\"dataframe\">\n",
       "  <thead>\n",
       "    <tr style=\"text-align: right;\">\n",
       "      <th></th>\n",
       "      <th>author</th>\n",
       "      <th>selftext</th>\n",
       "      <th>title</th>\n",
       "      <th>processed</th>\n",
       "      <th>processed_text</th>\n",
       "    </tr>\n",
       "  </thead>\n",
       "  <tbody>\n",
       "    <tr>\n",
       "      <th>44407</th>\n",
       "      <td>Trevorwaller81</td>\n",
       "      <td>\\n\\nI rouse groggily from the vice grip of s...</td>\n",
       "      <td>Fugue</td>\n",
       "      <td>[rous, groggili, vice, grip, sleep, someth, fe...</td>\n",
       "      <td>rous groggili vice grip sleep someth feel awri...</td>\n",
       "    </tr>\n",
       "    <tr>\n",
       "      <th>46597</th>\n",
       "      <td>NightcoreGene</td>\n",
       "      <td>There's something wrong, really wrong with the...</td>\n",
       "      <td>There's something wrong with the monkeys (Part 1)</td>\n",
       "      <td>[there, someth, wrong, realli, wrong, monkey, ...</td>\n",
       "      <td>there someth wrong realli wrong monkey bare re...</td>\n",
       "    </tr>\n",
       "    <tr>\n",
       "      <th>28073</th>\n",
       "      <td>MysteriousPain6</td>\n",
       "      <td># WARNING: DO NOT READ UNLESS YOU ARE SURE YOU...</td>\n",
       "      <td>The most disturbing discovery I ever had to wi...</td>\n",
       "      <td>[warn, read, unless, sure, handl, gore, mess, ...</td>\n",
       "      <td>warn read unless sure handl gore mess sexual d...</td>\n",
       "    </tr>\n",
       "    <tr>\n",
       "      <th>43634</th>\n",
       "      <td>Witeeeee</td>\n",
       "      <td>“If the foyer light turns on at night, leave i...</td>\n",
       "      <td>I saw something I shouldn't have, and now its ...</td>\n",
       "      <td>[“if, foyer, light, turn, night, leav, don’t, ...</td>\n",
       "      <td>“if foyer light turn night leav don’t look out...</td>\n",
       "    </tr>\n",
       "    <tr>\n",
       "      <th>9266</th>\n",
       "      <td>Aggravatingsuspicion</td>\n",
       "      <td>Originally posted on Monday.\\n\\nHey everyone. ...</td>\n",
       "      <td>Re-Update: My Wife is a Psychopath, and My Oth...</td>\n",
       "      <td>[origin, post, monday, hey, everyon, thank, bo...</td>\n",
       "      <td>origin post monday hey everyon thank bottom he...</td>\n",
       "    </tr>\n",
       "  </tbody>\n",
       "</table>\n",
       "</div>"
      ],
      "text/plain": [
       "                     author  \\\n",
       "44407        Trevorwaller81   \n",
       "46597         NightcoreGene   \n",
       "28073       MysteriousPain6   \n",
       "43634              Witeeeee   \n",
       "9266   Aggravatingsuspicion   \n",
       "\n",
       "                                                selftext  \\\n",
       "44407    \\n\\nI rouse groggily from the vice grip of s...   \n",
       "46597  There's something wrong, really wrong with the...   \n",
       "28073  # WARNING: DO NOT READ UNLESS YOU ARE SURE YOU...   \n",
       "43634  “If the foyer light turns on at night, leave i...   \n",
       "9266   Originally posted on Monday.\\n\\nHey everyone. ...   \n",
       "\n",
       "                                                   title  \\\n",
       "44407                                              Fugue   \n",
       "46597  There's something wrong with the monkeys (Part 1)   \n",
       "28073  The most disturbing discovery I ever had to wi...   \n",
       "43634  I saw something I shouldn't have, and now its ...   \n",
       "9266   Re-Update: My Wife is a Psychopath, and My Oth...   \n",
       "\n",
       "                                               processed  \\\n",
       "44407  [rous, groggili, vice, grip, sleep, someth, fe...   \n",
       "46597  [there, someth, wrong, realli, wrong, monkey, ...   \n",
       "28073  [warn, read, unless, sure, handl, gore, mess, ...   \n",
       "43634  [“if, foyer, light, turn, night, leav, don’t, ...   \n",
       "9266   [origin, post, monday, hey, everyon, thank, bo...   \n",
       "\n",
       "                                          processed_text  \n",
       "44407  rous groggili vice grip sleep someth feel awri...  \n",
       "46597  there someth wrong realli wrong monkey bare re...  \n",
       "28073  warn read unless sure handl gore mess sexual d...  \n",
       "43634  “if foyer light turn night leav don’t look out...  \n",
       "9266   origin post monday hey everyon thank bottom he...  "
      ]
     },
     "execution_count": 117,
     "metadata": {},
     "output_type": "execute_result"
    }
   ],
   "source": [
    "x_test.head()"
   ]
  },
  {
   "cell_type": "code",
   "execution_count": 151,
   "metadata": {},
   "outputs": [
    {
     "data": {
      "text/html": [
       "<div>\n",
       "<style scoped>\n",
       "    .dataframe tbody tr th:only-of-type {\n",
       "        vertical-align: middle;\n",
       "    }\n",
       "\n",
       "    .dataframe tbody tr th {\n",
       "        vertical-align: top;\n",
       "    }\n",
       "\n",
       "    .dataframe thead th {\n",
       "        text-align: right;\n",
       "    }\n",
       "</style>\n",
       "<table border=\"1\" class=\"dataframe\">\n",
       "  <thead>\n",
       "    <tr style=\"text-align: right;\">\n",
       "      <th></th>\n",
       "      <th>author</th>\n",
       "      <th>selftext</th>\n",
       "      <th>title</th>\n",
       "      <th>processed</th>\n",
       "      <th>processed_text</th>\n",
       "      <th>topic</th>\n",
       "    </tr>\n",
       "  </thead>\n",
       "  <tbody>\n",
       "    <tr>\n",
       "      <th>2649</th>\n",
       "      <td>raginnate2003</td>\n",
       "      <td>In the day time, people know me as a happy go ...</td>\n",
       "      <td>My Sleep Paralysis Experience</td>\n",
       "      <td>[day, time, peopl, know, happi, go, lucki, tee...</td>\n",
       "      <td>day time peopl know happi go lucki teenag alwa...</td>\n",
       "      <td>1</td>\n",
       "    </tr>\n",
       "    <tr>\n",
       "      <th>35480</th>\n",
       "      <td>poloniumpoisoning</td>\n",
       "      <td>My wife Cass and I are going through the worst...</td>\n",
       "      <td>Yesterday, I found a little girl crying at my ...</td>\n",
       "      <td>[wife, cass, go, worst, moment, live, alway, s...</td>\n",
       "      <td>wife cass go worst moment live alway saw us pe...</td>\n",
       "      <td>1</td>\n",
       "    </tr>\n",
       "    <tr>\n",
       "      <th>2861</th>\n",
       "      <td>Augustus_P</td>\n",
       "      <td>Last part here: https://www.reddit.com/r/nosle...</td>\n",
       "      <td>I work in a hospital in the middle of nowhere ...</td>\n",
       "      <td>[last, part, httpswwwredditcomrnosleepcomments...</td>\n",
       "      <td>last part httpswwwredditcomrnosleepcommentsaeh...</td>\n",
       "      <td>1</td>\n",
       "    </tr>\n",
       "    <tr>\n",
       "      <th>45623</th>\n",
       "      <td>CookooJack</td>\n",
       "      <td>As far back as I can remember, I’ve hated peop...</td>\n",
       "      <td>The Wishing Well</td>\n",
       "      <td>[far, back, rememb, i’v, hate, peopl, part, th...</td>\n",
       "      <td>far back rememb i’v hate peopl part they’r ann...</td>\n",
       "      <td>1</td>\n",
       "    </tr>\n",
       "    <tr>\n",
       "      <th>38510</th>\n",
       "      <td>Telephantom297</td>\n",
       "      <td>Hi again everyone. I’m really glad you guys li...</td>\n",
       "      <td>I do pest control and for monsters (part 2)</td>\n",
       "      <td>[hi, everyon, i’m, realli, glad, guy, like, fa...</td>\n",
       "      <td>hi everyon i’m realli glad guy like far think ...</td>\n",
       "      <td>1</td>\n",
       "    </tr>\n",
       "  </tbody>\n",
       "</table>\n",
       "</div>"
      ],
      "text/plain": [
       "                  author                                           selftext  \\\n",
       "2649       raginnate2003  In the day time, people know me as a happy go ...   \n",
       "35480  poloniumpoisoning  My wife Cass and I are going through the worst...   \n",
       "2861          Augustus_P  Last part here: https://www.reddit.com/r/nosle...   \n",
       "45623         CookooJack  As far back as I can remember, I’ve hated peop...   \n",
       "38510     Telephantom297  Hi again everyone. I’m really glad you guys li...   \n",
       "\n",
       "                                                   title  \\\n",
       "2649                       My Sleep Paralysis Experience   \n",
       "35480  Yesterday, I found a little girl crying at my ...   \n",
       "2861   I work in a hospital in the middle of nowhere ...   \n",
       "45623                                   The Wishing Well   \n",
       "38510        I do pest control and for monsters (part 2)   \n",
       "\n",
       "                                               processed  \\\n",
       "2649   [day, time, peopl, know, happi, go, lucki, tee...   \n",
       "35480  [wife, cass, go, worst, moment, live, alway, s...   \n",
       "2861   [last, part, httpswwwredditcomrnosleepcomments...   \n",
       "45623  [far, back, rememb, i’v, hate, peopl, part, th...   \n",
       "38510  [hi, everyon, i’m, realli, glad, guy, like, fa...   \n",
       "\n",
       "                                          processed_text  topic  \n",
       "2649   day time peopl know happi go lucki teenag alwa...      1  \n",
       "35480  wife cass go worst moment live alway saw us pe...      1  \n",
       "2861   last part httpswwwredditcomrnosleepcommentsaeh...      1  \n",
       "45623  far back rememb i’v hate peopl part they’r ann...      1  \n",
       "38510  hi everyon i’m realli glad guy like far think ...      1  "
      ]
     },
     "execution_count": 151,
     "metadata": {},
     "output_type": "execute_result"
    }
   ],
   "source": [
    "index = 28073\n",
    "story_text = x_test['selftext'][index]\n",
    "story_title = x_test['title'][index]\n",
    "topic = recommend(story_text,id2word)\n",
    "recommended = x_train[x_train['topic']==topic]\n",
    "recommended.head()"
   ]
  },
  {
   "cell_type": "code",
   "execution_count": 153,
   "metadata": {},
   "outputs": [
    {
     "name": "stdout",
     "output_type": "stream",
     "text": [
      "Original title: The most disturbing discovery I ever had to witness\n",
      "Here's some recommended titles ...\n",
      "There is something in the house with me\n",
      "It's Getting To Be Too Dark (Part One)\n",
      "The \"shadow man\"\n",
      "Little Boys Who Kick And Punch End Up As The Monster's Lunch\n",
      "I visited heaven, and...\n"
     ]
    }
   ],
   "source": [
    "print(f\"Original title: {story_title}\")\n",
    "sampled_titles = recommended.sample(n=5)['title']\n",
    "print(\"Here's some recommended titles ...\")\n",
    "for i in sampled_titles:\n",
    "    print(i)"
   ]
  },
  {
   "cell_type": "markdown",
   "metadata": {},
   "source": [
    "# Appendix"
   ]
  },
  {
   "cell_type": "code",
   "execution_count": null,
   "metadata": {},
   "outputs": [],
   "source": [
    "my_subreddit = subreddit.new(limit=1)\n",
    "for submission in my_subreddit:\n",
    "    print(submission.title)\n",
    "    print('     ')\n",
    "    all_comments = submission.comments.list()\n",
    "    for comment in all_comments:\n",
    "        #print(vars(comment))\n",
    "        print(comment.body)\n",
    "        print(comment.author)\n",
    "        print(comment.likes)\n",
    "        print('-------')"
   ]
  },
  {
   "cell_type": "markdown",
   "metadata": {},
   "source": [
    "For the below, follow the directions here https://www.storybench.org/how-to-scrape-reddit-with-python/"
   ]
  },
  {
   "cell_type": "code",
   "execution_count": null,
   "metadata": {},
   "outputs": [],
   "source": [
    "PERSONAL_USE_SCRIPT_14_CHARS = 'you_personal_use_script'\n",
    "SECRET_KEY_27_CHARS = 'your_secret_key'\n",
    "YOUR_APP_NAME = 'your_app_name'\n",
    "YOUR_REDDIT_USER_NAME = 'your_reddit_name'\n",
    "YOUR_REDDIT_LOGIN_PASSWORD = 'your_password'"
   ]
  },
  {
   "cell_type": "code",
   "execution_count": null,
   "metadata": {},
   "outputs": [],
   "source": [
    "reddit = praw.Reddit(client_id=PERSONAL_USE_SCRIPT_14_CHARS,\n",
    "                     client_secret=SECRET_KEY_27_CHARS,\n",
    "                     password=YOUR_REDDIT_LOGIN_PASSWORD,\n",
    "                     user_agent=YOUR_APP_NAME,\n",
    "                     username=YOUR_REDDIT_USER_NAME)"
   ]
  },
  {
   "cell_type": "code",
   "execution_count": null,
   "metadata": {},
   "outputs": [],
   "source": [
    "print(reddit.user.me())"
   ]
  },
  {
   "cell_type": "code",
   "execution_count": null,
   "metadata": {},
   "outputs": [],
   "source": [
    "subreddit = reddit.subreddit('nosleep')"
   ]
  },
  {
   "cell_type": "code",
   "execution_count": null,
   "metadata": {},
   "outputs": [],
   "source": [
    "stories_dict = {\"story_id\": [],\n",
    "                \"title\": [],\n",
    "               \"author\": [],\n",
    "               \"body\": []}"
   ]
  },
  {
   "cell_type": "code",
   "execution_count": null,
   "metadata": {},
   "outputs": [],
   "source": [
    "'''\n",
    "comments_dict = {\"story_id\":[],\n",
    "                \"comment_author\": [],\n",
    "                \"comment_body\": []}\n",
    "'''"
   ]
  },
  {
   "cell_type": "code",
   "execution_count": null,
   "metadata": {},
   "outputs": [],
   "source": [
    "my_subreddit = subreddit.hot(limit=500)\n",
    "for submission in my_subreddit:\n",
    "    stories_dict[\"title\"].append(submission.title)\n",
    "    stories_dict[\"body\"].append(submission.selftext)\n",
    "    stories_dict[\"author\"].append(submission.author)\n",
    "    stories_dict[\"story_id\"].append(submission.id)\n",
    "    all_comments = submission.comments.list()\n",
    "    '''\n",
    "    for comment in all_comments:\n",
    "        comments_dict[\"story_id\"].append(submission.id)\n",
    "        comments_dict[\"comment_body\"].append(comment.body)\n",
    "        comments_dict[\"comment_author\"].append(comment.author)\n",
    "    '''"
   ]
  },
  {
   "cell_type": "code",
   "execution_count": null,
   "metadata": {},
   "outputs": [],
   "source": [
    "story_df = pd.DataFrame(stories_dict)\n",
    "story_df.head()"
   ]
  },
  {
   "cell_type": "code",
   "execution_count": null,
   "metadata": {},
   "outputs": [],
   "source": [
    "story_df = story_df.drop([0, 1], )\n",
    "story_df.head()"
   ]
  },
  {
   "cell_type": "code",
   "execution_count": null,
   "metadata": {},
   "outputs": [],
   "source": [
    "story_df.shape"
   ]
  },
  {
   "cell_type": "code",
   "execution_count": null,
   "metadata": {},
   "outputs": [],
   "source": [
    "for i,topic in enumerate(nmf.components_):\n",
    "    print(f'Top 10 words for topic #{i}:')\n",
    "    print([tfidf_vect.get_feature_names()[i] for i in topic.argsort()[-10:]])\n",
    "    print('\\n')"
   ]
  },
  {
   "cell_type": "code",
   "execution_count": null,
   "metadata": {},
   "outputs": [],
   "source": [
    "scores = []\n",
    "for i in range(2,50):\n",
    "    km = KMeans(n_clusters=i).fit(X)\n",
    "    labels = km.labels_\n",
    "    score = silhouette_score(X, labels, metric='cosine')\n",
    "    scores.append(score)"
   ]
  },
  {
   "cell_type": "code",
   "execution_count": null,
   "metadata": {},
   "outputs": [],
   "source": [
    "plt.plot(range(2,50),scores)\n",
    "plt.show()"
   ]
  },
  {
   "cell_type": "markdown",
   "metadata": {},
   "source": [
    "# Comment Analysis"
   ]
  },
  {
   "cell_type": "code",
   "execution_count": null,
   "metadata": {},
   "outputs": [],
   "source": [
    "my_subreddit = subreddit.new(limit=1)\n",
    "for submission in my_subreddit:\n",
    "    print(submission.title)\n",
    "    print('     ')\n",
    "    all_comments = submission.comments.list()\n",
    "    for comment in all_comments:\n",
    "        #print(vars(comment))\n",
    "        print(comment.body)\n",
    "        print(comment.author)\n",
    "        print(comment.likes)\n",
    "        print('-------')"
   ]
  },
  {
   "cell_type": "markdown",
   "metadata": {},
   "source": [
    "# Non-negative Matrix Factorization"
   ]
  },
  {
   "cell_type": "markdown",
   "metadata": {},
   "source": [
    "This method should be disregarded. It takes way too long to run and it's really hard to determine the \"right\" amount of topics to use. I'm leaving it in here for when we have to write our progress report."
   ]
  },
  {
   "cell_type": "code",
   "execution_count": 10,
   "metadata": {},
   "outputs": [],
   "source": [
    "# Make a TF-IDF\n",
    "tfidf_vect = TfidfVectorizer(max_df=0.8, min_df=2, stop_words=None, decode_error=\"replace\")\n",
    "doc_term_matrix = tfidf_vect.fit_transform(story_df['processed'].values)"
   ]
  },
  {
   "cell_type": "code",
   "execution_count": 11,
   "metadata": {},
   "outputs": [
    {
     "name": "stdout",
     "output_type": "stream",
     "text": [
      "5\n",
      "15\n",
      "25\n",
      "35\n",
      "45\n",
      "55\n",
      "65\n",
      "75\n",
      "85\n",
      "95\n"
     ]
    }
   ],
   "source": [
    "# Need to tune n_components\n",
    "errors = []\n",
    "for i in range(5,100,10):\n",
    "    print(i)\n",
    "    nmf = NMF(n_components=i, random_state=42)\n",
    "    nmf = nmf.fit(doc_term_matrix )\n",
    "    errors.append(nmf.reconstruction_err_)"
   ]
  },
  {
   "cell_type": "code",
   "execution_count": 12,
   "metadata": {},
   "outputs": [
    {
     "data": {
      "text/plain": [
       "[185.39558501413458,\n",
       " 183.25519852563295,\n",
       " 181.95236838123353,\n",
       " 180.85081104827208,\n",
       " 179.8827149141605,\n",
       " 179.05851195493125,\n",
       " 178.23408061388184,\n",
       " 177.40889349999222,\n",
       " 176.71209153499058,\n",
       " 176.0112027145298]"
      ]
     },
     "execution_count": 12,
     "metadata": {},
     "output_type": "execute_result"
    }
   ],
   "source": [
    "errors"
   ]
  },
  {
   "cell_type": "code",
   "execution_count": 13,
   "metadata": {},
   "outputs": [
    {
     "data": {
      "image/png": "[encoded data removed]",
      "text/plain": [
       "<Figure size 432x288 with 1 Axes>"
      ]
     },
     "metadata": {},
     "output_type": "display_data"
    }
   ],
   "source": [
    "plt.plot(range(5,100,10),errors)\n",
    "plt.show()"
   ]
  },
  {
   "cell_type": "code",
   "execution_count": null,
   "metadata": {},
   "outputs": [],
   "source": []
  },
  {
   "cell_type": "code",
   "execution_count": null,
   "metadata": {},
   "outputs": [],
   "source": []
  }
 ],
 "metadata": {
  "kernelspec": {
   "display_name": "Python 3",
   "language": "python",
   "name": "python3"
  },
  "language_info": {
   "codemirror_mode": {
    "name": "ipython",
    "version": 3
   },
   "file_extension": ".py",
   "mimetype": "text/x-python",
   "name": "python",
   "nbconvert_exporter": "python",
   "pygments_lexer": "ipython3",
   "version": "3.6.5"
  }
 },
 "nbformat": 4,
 "nbformat_minor": 2
}
